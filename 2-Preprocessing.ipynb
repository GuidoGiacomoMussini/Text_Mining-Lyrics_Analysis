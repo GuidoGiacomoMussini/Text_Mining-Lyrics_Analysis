{
  "cells": [
    {
      "cell_type": "markdown",
      "metadata": {
        "id": "view-in-github",
        "colab_type": "text"
      },
      "source": [
        "<a href=\"https://colab.research.google.com/github/GuidoGiacomoMussini/Text_Mining-Lyrics_Analysis/blob/main/2-Preprocessing.ipynb\" target=\"_parent\"><img src=\"https://colab.research.google.com/assets/colab-badge.svg\" alt=\"Open In Colab\"/></a>"
      ]
    },
    {
      "cell_type": "markdown",
      "metadata": {
        "id": "UPHIQk-5q6yY"
      },
      "source": [
        "# Dependencies"
      ]
    },
    {
      "cell_type": "code",
      "execution_count": null,
      "metadata": {
        "id": "xIetAByYBmIG",
        "colab": {
          "base_uri": "https://localhost:8080/"
        },
        "outputId": "b83f77f2-772d-42ff-f112-7210d0ae9526"
      },
      "outputs": [
        {
          "output_type": "stream",
          "name": "stdout",
          "text": [
            "Mounted at /content/drive\n"
          ]
        }
      ],
      "source": [
        "from google.colab import drive\n",
        "import numpy as np\n",
        "import pandas as pd\n",
        "import matplotlib.pyplot as plt\n",
        "from collections import Counter\n",
        "import re\n",
        "import string\n",
        "from tqdm import tqdm as progress_bar\n",
        "import pickle\n",
        "drive.mount('/content/drive')"
      ]
    },
    {
      "cell_type": "code",
      "execution_count": null,
      "metadata": {
        "id": "GuXXyCYqoTUd",
        "colab": {
          "base_uri": "https://localhost:8080/"
        },
        "outputId": "e59ca606-57e1-41a8-ebe2-27a1811e20bc"
      },
      "outputs": [
        {
          "output_type": "stream",
          "name": "stderr",
          "text": [
            "[nltk_data] Downloading package stopwords to /root/nltk_data...\n",
            "[nltk_data]   Unzipping corpora/stopwords.zip.\n",
            "[nltk_data] Downloading package punkt to /root/nltk_data...\n",
            "[nltk_data]   Unzipping tokenizers/punkt.zip.\n",
            "[nltk_data] Downloading package wordnet to /root/nltk_data...\n"
          ]
        }
      ],
      "source": [
        "#functions\n",
        "!cp /content/drive/MyDrive/Colab\\ Notebooks/Text\\ Mining/Utils/preprocessing.py /content\n",
        "import preprocessing as PREPROCESSING"
      ]
    },
    {
      "cell_type": "markdown",
      "metadata": {
        "id": "brjXzgN-w5TN"
      },
      "source": [
        "# LYRICS"
      ]
    },
    {
      "cell_type": "markdown",
      "metadata": {
        "id": "4_kATQznCcox"
      },
      "source": [
        "Import the data"
      ]
    },
    {
      "cell_type": "code",
      "execution_count": null,
      "metadata": {
        "id": "Cjuga41_IOZU"
      },
      "outputs": [],
      "source": [
        "files_path = '/content/drive/MyDrive/Colab Notebooks/Text Mining/Files/'\n",
        "lyrics_file = 'raw_lyrics.h5'\n",
        "\n",
        "df =  pd.read_hdf(files_path + lyrics_file, key='data')\n",
        "df.head(2)"
      ]
    },
    {
      "cell_type": "markdown",
      "metadata": {
        "id": "BYhOz0wXJJHY"
      },
      "source": [
        "### Clean the lyrics\n",
        "* remove headers and other information inside the song that are not part of the lyrics (like the phrase 'You might also like'\n",
        "* modify how the verses are represented: '\\n' -> '/'"
      ]
    },
    {
      "cell_type": "code",
      "execution_count": null,
      "metadata": {
        "id": "9NNfjnCHJc8J",
        "colab": {
          "base_uri": "https://localhost:8080/",
          "height": 112
        },
        "outputId": "5d798958-2699-478c-8b15-ce7a8c045b8f"
      },
      "outputs": [
        {
          "output_type": "execute_result",
          "data": {
            "text/plain": [
              "              Author               Title  \\\n",
              "0  Fabrizio De André  La Guerra Di Piero   \n",
              "1  Fabrizio De André          Don Raffaè   \n",
              "\n",
              "                                              Lyrics  \n",
              "0  Dormi sepolto in un campo di grano/  Non è la ...  \n",
              "1  Io mi chiamo  Pasquale  Cafiero/  E son brigad...  "
            ],
            "text/html": [
              "\n",
              "  <div id=\"df-19f3bbdd-708e-4749-a620-13e13b188f53\" class=\"colab-df-container\">\n",
              "    <div>\n",
              "<style scoped>\n",
              "    .dataframe tbody tr th:only-of-type {\n",
              "        vertical-align: middle;\n",
              "    }\n",
              "\n",
              "    .dataframe tbody tr th {\n",
              "        vertical-align: top;\n",
              "    }\n",
              "\n",
              "    .dataframe thead th {\n",
              "        text-align: right;\n",
              "    }\n",
              "</style>\n",
              "<table border=\"1\" class=\"dataframe\">\n",
              "  <thead>\n",
              "    <tr style=\"text-align: right;\">\n",
              "      <th></th>\n",
              "      <th>Author</th>\n",
              "      <th>Title</th>\n",
              "      <th>Lyrics</th>\n",
              "    </tr>\n",
              "  </thead>\n",
              "  <tbody>\n",
              "    <tr>\n",
              "      <th>0</th>\n",
              "      <td>Fabrizio De André</td>\n",
              "      <td>La Guerra Di Piero</td>\n",
              "      <td>Dormi sepolto in un campo di grano/  Non è la ...</td>\n",
              "    </tr>\n",
              "    <tr>\n",
              "      <th>1</th>\n",
              "      <td>Fabrizio De André</td>\n",
              "      <td>Don Raffaè</td>\n",
              "      <td>Io mi chiamo  Pasquale  Cafiero/  E son brigad...</td>\n",
              "    </tr>\n",
              "  </tbody>\n",
              "</table>\n",
              "</div>\n",
              "    <div class=\"colab-df-buttons\">\n",
              "\n",
              "  <div class=\"colab-df-container\">\n",
              "    <button class=\"colab-df-convert\" onclick=\"convertToInteractive('df-19f3bbdd-708e-4749-a620-13e13b188f53')\"\n",
              "            title=\"Convert this dataframe to an interactive table.\"\n",
              "            style=\"display:none;\">\n",
              "\n",
              "  <svg xmlns=\"http://www.w3.org/2000/svg\" height=\"24px\" viewBox=\"0 -960 960 960\">\n",
              "    <path d=\"M120-120v-720h720v720H120Zm60-500h600v-160H180v160Zm220 220h160v-160H400v160Zm0 220h160v-160H400v160ZM180-400h160v-160H180v160Zm440 0h160v-160H620v160ZM180-180h160v-160H180v160Zm440 0h160v-160H620v160Z\"/>\n",
              "  </svg>\n",
              "    </button>\n",
              "\n",
              "  <style>\n",
              "    .colab-df-container {\n",
              "      display:flex;\n",
              "      gap: 12px;\n",
              "    }\n",
              "\n",
              "    .colab-df-convert {\n",
              "      background-color: #E8F0FE;\n",
              "      border: none;\n",
              "      border-radius: 50%;\n",
              "      cursor: pointer;\n",
              "      display: none;\n",
              "      fill: #1967D2;\n",
              "      height: 32px;\n",
              "      padding: 0 0 0 0;\n",
              "      width: 32px;\n",
              "    }\n",
              "\n",
              "    .colab-df-convert:hover {\n",
              "      background-color: #E2EBFA;\n",
              "      box-shadow: 0px 1px 2px rgba(60, 64, 67, 0.3), 0px 1px 3px 1px rgba(60, 64, 67, 0.15);\n",
              "      fill: #174EA6;\n",
              "    }\n",
              "\n",
              "    .colab-df-buttons div {\n",
              "      margin-bottom: 4px;\n",
              "    }\n",
              "\n",
              "    [theme=dark] .colab-df-convert {\n",
              "      background-color: #3B4455;\n",
              "      fill: #D2E3FC;\n",
              "    }\n",
              "\n",
              "    [theme=dark] .colab-df-convert:hover {\n",
              "      background-color: #434B5C;\n",
              "      box-shadow: 0px 1px 3px 1px rgba(0, 0, 0, 0.15);\n",
              "      filter: drop-shadow(0px 1px 2px rgba(0, 0, 0, 0.3));\n",
              "      fill: #FFFFFF;\n",
              "    }\n",
              "  </style>\n",
              "\n",
              "    <script>\n",
              "      const buttonEl =\n",
              "        document.querySelector('#df-19f3bbdd-708e-4749-a620-13e13b188f53 button.colab-df-convert');\n",
              "      buttonEl.style.display =\n",
              "        google.colab.kernel.accessAllowed ? 'block' : 'none';\n",
              "\n",
              "      async function convertToInteractive(key) {\n",
              "        const element = document.querySelector('#df-19f3bbdd-708e-4749-a620-13e13b188f53');\n",
              "        const dataTable =\n",
              "          await google.colab.kernel.invokeFunction('convertToInteractive',\n",
              "                                                    [key], {});\n",
              "        if (!dataTable) return;\n",
              "\n",
              "        const docLinkHtml = 'Like what you see? Visit the ' +\n",
              "          '<a target=\"_blank\" href=https://colab.research.google.com/notebooks/data_table.ipynb>data table notebook</a>'\n",
              "          + ' to learn more about interactive tables.';\n",
              "        element.innerHTML = '';\n",
              "        dataTable['output_type'] = 'display_data';\n",
              "        await google.colab.output.renderOutput(dataTable, element);\n",
              "        const docLink = document.createElement('div');\n",
              "        docLink.innerHTML = docLinkHtml;\n",
              "        element.appendChild(docLink);\n",
              "      }\n",
              "    </script>\n",
              "  </div>\n",
              "\n",
              "\n",
              "<div id=\"df-51d9b288-1525-4ddc-b91b-40d07a97468f\">\n",
              "  <button class=\"colab-df-quickchart\" onclick=\"quickchart('df-51d9b288-1525-4ddc-b91b-40d07a97468f')\"\n",
              "            title=\"Suggest charts\"\n",
              "            style=\"display:none;\">\n",
              "\n",
              "<svg xmlns=\"http://www.w3.org/2000/svg\" height=\"24px\"viewBox=\"0 0 24 24\"\n",
              "     width=\"24px\">\n",
              "    <g>\n",
              "        <path d=\"M19 3H5c-1.1 0-2 .9-2 2v14c0 1.1.9 2 2 2h14c1.1 0 2-.9 2-2V5c0-1.1-.9-2-2-2zM9 17H7v-7h2v7zm4 0h-2V7h2v10zm4 0h-2v-4h2v4z\"/>\n",
              "    </g>\n",
              "</svg>\n",
              "  </button>\n",
              "\n",
              "<style>\n",
              "  .colab-df-quickchart {\n",
              "      --bg-color: #E8F0FE;\n",
              "      --fill-color: #1967D2;\n",
              "      --hover-bg-color: #E2EBFA;\n",
              "      --hover-fill-color: #174EA6;\n",
              "      --disabled-fill-color: #AAA;\n",
              "      --disabled-bg-color: #DDD;\n",
              "  }\n",
              "\n",
              "  [theme=dark] .colab-df-quickchart {\n",
              "      --bg-color: #3B4455;\n",
              "      --fill-color: #D2E3FC;\n",
              "      --hover-bg-color: #434B5C;\n",
              "      --hover-fill-color: #FFFFFF;\n",
              "      --disabled-bg-color: #3B4455;\n",
              "      --disabled-fill-color: #666;\n",
              "  }\n",
              "\n",
              "  .colab-df-quickchart {\n",
              "    background-color: var(--bg-color);\n",
              "    border: none;\n",
              "    border-radius: 50%;\n",
              "    cursor: pointer;\n",
              "    display: none;\n",
              "    fill: var(--fill-color);\n",
              "    height: 32px;\n",
              "    padding: 0;\n",
              "    width: 32px;\n",
              "  }\n",
              "\n",
              "  .colab-df-quickchart:hover {\n",
              "    background-color: var(--hover-bg-color);\n",
              "    box-shadow: 0 1px 2px rgba(60, 64, 67, 0.3), 0 1px 3px 1px rgba(60, 64, 67, 0.15);\n",
              "    fill: var(--button-hover-fill-color);\n",
              "  }\n",
              "\n",
              "  .colab-df-quickchart-complete:disabled,\n",
              "  .colab-df-quickchart-complete:disabled:hover {\n",
              "    background-color: var(--disabled-bg-color);\n",
              "    fill: var(--disabled-fill-color);\n",
              "    box-shadow: none;\n",
              "  }\n",
              "\n",
              "  .colab-df-spinner {\n",
              "    border: 2px solid var(--fill-color);\n",
              "    border-color: transparent;\n",
              "    border-bottom-color: var(--fill-color);\n",
              "    animation:\n",
              "      spin 1s steps(1) infinite;\n",
              "  }\n",
              "\n",
              "  @keyframes spin {\n",
              "    0% {\n",
              "      border-color: transparent;\n",
              "      border-bottom-color: var(--fill-color);\n",
              "      border-left-color: var(--fill-color);\n",
              "    }\n",
              "    20% {\n",
              "      border-color: transparent;\n",
              "      border-left-color: var(--fill-color);\n",
              "      border-top-color: var(--fill-color);\n",
              "    }\n",
              "    30% {\n",
              "      border-color: transparent;\n",
              "      border-left-color: var(--fill-color);\n",
              "      border-top-color: var(--fill-color);\n",
              "      border-right-color: var(--fill-color);\n",
              "    }\n",
              "    40% {\n",
              "      border-color: transparent;\n",
              "      border-right-color: var(--fill-color);\n",
              "      border-top-color: var(--fill-color);\n",
              "    }\n",
              "    60% {\n",
              "      border-color: transparent;\n",
              "      border-right-color: var(--fill-color);\n",
              "    }\n",
              "    80% {\n",
              "      border-color: transparent;\n",
              "      border-right-color: var(--fill-color);\n",
              "      border-bottom-color: var(--fill-color);\n",
              "    }\n",
              "    90% {\n",
              "      border-color: transparent;\n",
              "      border-bottom-color: var(--fill-color);\n",
              "    }\n",
              "  }\n",
              "</style>\n",
              "\n",
              "  <script>\n",
              "    async function quickchart(key) {\n",
              "      const quickchartButtonEl =\n",
              "        document.querySelector('#' + key + ' button');\n",
              "      quickchartButtonEl.disabled = true;  // To prevent multiple clicks.\n",
              "      quickchartButtonEl.classList.add('colab-df-spinner');\n",
              "      try {\n",
              "        const charts = await google.colab.kernel.invokeFunction(\n",
              "            'suggestCharts', [key], {});\n",
              "      } catch (error) {\n",
              "        console.error('Error during call to suggestCharts:', error);\n",
              "      }\n",
              "      quickchartButtonEl.classList.remove('colab-df-spinner');\n",
              "      quickchartButtonEl.classList.add('colab-df-quickchart-complete');\n",
              "    }\n",
              "    (() => {\n",
              "      let quickchartButtonEl =\n",
              "        document.querySelector('#df-51d9b288-1525-4ddc-b91b-40d07a97468f button');\n",
              "      quickchartButtonEl.style.display =\n",
              "        google.colab.kernel.accessAllowed ? 'block' : 'none';\n",
              "    })();\n",
              "  </script>\n",
              "</div>\n",
              "    </div>\n",
              "  </div>\n"
            ]
          },
          "metadata": {},
          "execution_count": 8
        }
      ],
      "source": [
        "df['Lyrics'] = [PREPROCESSING.clean_lyrics(PREPROCESSING.remove_headers(song)) for song in df.Lyrics]\n",
        "\n",
        "df.head(2)"
      ]
    },
    {
      "cell_type": "code",
      "source": [
        "df.Lyrics[40]"
      ],
      "metadata": {
        "id": "6zPSJkSSgiV8"
      },
      "execution_count": null,
      "outputs": []
    },
    {
      "cell_type": "markdown",
      "metadata": {
        "id": "aA9mxX2DCmHE"
      },
      "source": [
        "### Remove outliers\n",
        "* i expect to have songs with long part of prose (expecially by Giorgio Gaber), i want to delete them"
      ]
    },
    {
      "cell_type": "markdown",
      "metadata": {
        "id": "DS12MD-eCurW"
      },
      "source": [
        "derive the length of each verse inside each song"
      ]
    },
    {
      "cell_type": "code",
      "execution_count": null,
      "metadata": {
        "id": "GF7mdW2drZnV"
      },
      "outputs": [],
      "source": [
        "df['verses'] = [song.split(\"/\") for song in df.Lyrics]"
      ]
    },
    {
      "cell_type": "code",
      "execution_count": null,
      "metadata": {
        "id": "gV4mF0oKtFYS",
        "colab": {
          "base_uri": "https://localhost:8080/"
        },
        "outputId": "81bf9255-c2b8-401a-be9c-a71367999808"
      },
      "outputs": [
        {
          "output_type": "execute_result",
          "data": {
            "text/plain": [
              "              Author                  Title  \\\n",
              "0  Fabrizio De André     La Guerra Di Piero   \n",
              "1  Fabrizio De André             Don Raffaè   \n",
              "2  Fabrizio De André              Dolcenera   \n",
              "3  Fabrizio De André          Bocca Di Rosa   \n",
              "4  Fabrizio De André  Il Testamento di Tito   \n",
              "\n",
              "                                              Lyrics  \\\n",
              "0  Dormi sepolto in un campo di grano/  Non è la ...   \n",
              "1  Io mi chiamo  Pasquale  Cafiero/  E son brigad...   \n",
              "2  Amìala ch'â l'arìa amìa cum'â l'é cum'â l'é/  ...   \n",
              "3  La chiamavano  Bocca di  Rosa/  Metteva l'amor...   \n",
              "4  Non avrai altro  Dio all'infuori di me/  Spess...   \n",
              "\n",
              "                                              verses  max_len_verses  \n",
              "0  [Dormi sepolto in un campo di grano,   Non è l...              45  \n",
              "1  [Io mi chiamo  Pasquale  Cafiero,   E son brig...              74  \n",
              "2  [Amìala ch'â l'arìa amìa cum'â l'é cum'â l'é, ...              67  \n",
              "3  [La chiamavano  Bocca di  Rosa,   Metteva l'am...              43  \n",
              "4  [Non avrai altro  Dio all'infuori di me,   Spe...              44  "
            ],
            "text/html": [
              "\n",
              "  <div id=\"df-4f236ed5-eb70-4c8f-ac96-18f28fcda436\" class=\"colab-df-container\">\n",
              "    <div>\n",
              "<style scoped>\n",
              "    .dataframe tbody tr th:only-of-type {\n",
              "        vertical-align: middle;\n",
              "    }\n",
              "\n",
              "    .dataframe tbody tr th {\n",
              "        vertical-align: top;\n",
              "    }\n",
              "\n",
              "    .dataframe thead th {\n",
              "        text-align: right;\n",
              "    }\n",
              "</style>\n",
              "<table border=\"1\" class=\"dataframe\">\n",
              "  <thead>\n",
              "    <tr style=\"text-align: right;\">\n",
              "      <th></th>\n",
              "      <th>Author</th>\n",
              "      <th>Title</th>\n",
              "      <th>Lyrics</th>\n",
              "      <th>verses</th>\n",
              "      <th>max_len_verses</th>\n",
              "    </tr>\n",
              "  </thead>\n",
              "  <tbody>\n",
              "    <tr>\n",
              "      <th>0</th>\n",
              "      <td>Fabrizio De André</td>\n",
              "      <td>La Guerra Di Piero</td>\n",
              "      <td>Dormi sepolto in un campo di grano/  Non è la ...</td>\n",
              "      <td>[Dormi sepolto in un campo di grano,   Non è l...</td>\n",
              "      <td>45</td>\n",
              "    </tr>\n",
              "    <tr>\n",
              "      <th>1</th>\n",
              "      <td>Fabrizio De André</td>\n",
              "      <td>Don Raffaè</td>\n",
              "      <td>Io mi chiamo  Pasquale  Cafiero/  E son brigad...</td>\n",
              "      <td>[Io mi chiamo  Pasquale  Cafiero,   E son brig...</td>\n",
              "      <td>74</td>\n",
              "    </tr>\n",
              "    <tr>\n",
              "      <th>2</th>\n",
              "      <td>Fabrizio De André</td>\n",
              "      <td>Dolcenera</td>\n",
              "      <td>Amìala ch'â l'arìa amìa cum'â l'é cum'â l'é/  ...</td>\n",
              "      <td>[Amìala ch'â l'arìa amìa cum'â l'é cum'â l'é, ...</td>\n",
              "      <td>67</td>\n",
              "    </tr>\n",
              "    <tr>\n",
              "      <th>3</th>\n",
              "      <td>Fabrizio De André</td>\n",
              "      <td>Bocca Di Rosa</td>\n",
              "      <td>La chiamavano  Bocca di  Rosa/  Metteva l'amor...</td>\n",
              "      <td>[La chiamavano  Bocca di  Rosa,   Metteva l'am...</td>\n",
              "      <td>43</td>\n",
              "    </tr>\n",
              "    <tr>\n",
              "      <th>4</th>\n",
              "      <td>Fabrizio De André</td>\n",
              "      <td>Il Testamento di Tito</td>\n",
              "      <td>Non avrai altro  Dio all'infuori di me/  Spess...</td>\n",
              "      <td>[Non avrai altro  Dio all'infuori di me,   Spe...</td>\n",
              "      <td>44</td>\n",
              "    </tr>\n",
              "  </tbody>\n",
              "</table>\n",
              "</div>\n",
              "    <div class=\"colab-df-buttons\">\n",
              "\n",
              "  <div class=\"colab-df-container\">\n",
              "    <button class=\"colab-df-convert\" onclick=\"convertToInteractive('df-4f236ed5-eb70-4c8f-ac96-18f28fcda436')\"\n",
              "            title=\"Convert this dataframe to an interactive table.\"\n",
              "            style=\"display:none;\">\n",
              "\n",
              "  <svg xmlns=\"http://www.w3.org/2000/svg\" height=\"24px\" viewBox=\"0 -960 960 960\">\n",
              "    <path d=\"M120-120v-720h720v720H120Zm60-500h600v-160H180v160Zm220 220h160v-160H400v160Zm0 220h160v-160H400v160ZM180-400h160v-160H180v160Zm440 0h160v-160H620v160ZM180-180h160v-160H180v160Zm440 0h160v-160H620v160Z\"/>\n",
              "  </svg>\n",
              "    </button>\n",
              "\n",
              "  <style>\n",
              "    .colab-df-container {\n",
              "      display:flex;\n",
              "      gap: 12px;\n",
              "    }\n",
              "\n",
              "    .colab-df-convert {\n",
              "      background-color: #E8F0FE;\n",
              "      border: none;\n",
              "      border-radius: 50%;\n",
              "      cursor: pointer;\n",
              "      display: none;\n",
              "      fill: #1967D2;\n",
              "      height: 32px;\n",
              "      padding: 0 0 0 0;\n",
              "      width: 32px;\n",
              "    }\n",
              "\n",
              "    .colab-df-convert:hover {\n",
              "      background-color: #E2EBFA;\n",
              "      box-shadow: 0px 1px 2px rgba(60, 64, 67, 0.3), 0px 1px 3px 1px rgba(60, 64, 67, 0.15);\n",
              "      fill: #174EA6;\n",
              "    }\n",
              "\n",
              "    .colab-df-buttons div {\n",
              "      margin-bottom: 4px;\n",
              "    }\n",
              "\n",
              "    [theme=dark] .colab-df-convert {\n",
              "      background-color: #3B4455;\n",
              "      fill: #D2E3FC;\n",
              "    }\n",
              "\n",
              "    [theme=dark] .colab-df-convert:hover {\n",
              "      background-color: #434B5C;\n",
              "      box-shadow: 0px 1px 3px 1px rgba(0, 0, 0, 0.15);\n",
              "      filter: drop-shadow(0px 1px 2px rgba(0, 0, 0, 0.3));\n",
              "      fill: #FFFFFF;\n",
              "    }\n",
              "  </style>\n",
              "\n",
              "    <script>\n",
              "      const buttonEl =\n",
              "        document.querySelector('#df-4f236ed5-eb70-4c8f-ac96-18f28fcda436 button.colab-df-convert');\n",
              "      buttonEl.style.display =\n",
              "        google.colab.kernel.accessAllowed ? 'block' : 'none';\n",
              "\n",
              "      async function convertToInteractive(key) {\n",
              "        const element = document.querySelector('#df-4f236ed5-eb70-4c8f-ac96-18f28fcda436');\n",
              "        const dataTable =\n",
              "          await google.colab.kernel.invokeFunction('convertToInteractive',\n",
              "                                                    [key], {});\n",
              "        if (!dataTable) return;\n",
              "\n",
              "        const docLinkHtml = 'Like what you see? Visit the ' +\n",
              "          '<a target=\"_blank\" href=https://colab.research.google.com/notebooks/data_table.ipynb>data table notebook</a>'\n",
              "          + ' to learn more about interactive tables.';\n",
              "        element.innerHTML = '';\n",
              "        dataTable['output_type'] = 'display_data';\n",
              "        await google.colab.output.renderOutput(dataTable, element);\n",
              "        const docLink = document.createElement('div');\n",
              "        docLink.innerHTML = docLinkHtml;\n",
              "        element.appendChild(docLink);\n",
              "      }\n",
              "    </script>\n",
              "  </div>\n",
              "\n",
              "\n",
              "<div id=\"df-a7b2f30c-53d0-4df1-8e9b-3901fc7e32c6\">\n",
              "  <button class=\"colab-df-quickchart\" onclick=\"quickchart('df-a7b2f30c-53d0-4df1-8e9b-3901fc7e32c6')\"\n",
              "            title=\"Suggest charts\"\n",
              "            style=\"display:none;\">\n",
              "\n",
              "<svg xmlns=\"http://www.w3.org/2000/svg\" height=\"24px\"viewBox=\"0 0 24 24\"\n",
              "     width=\"24px\">\n",
              "    <g>\n",
              "        <path d=\"M19 3H5c-1.1 0-2 .9-2 2v14c0 1.1.9 2 2 2h14c1.1 0 2-.9 2-2V5c0-1.1-.9-2-2-2zM9 17H7v-7h2v7zm4 0h-2V7h2v10zm4 0h-2v-4h2v4z\"/>\n",
              "    </g>\n",
              "</svg>\n",
              "  </button>\n",
              "\n",
              "<style>\n",
              "  .colab-df-quickchart {\n",
              "      --bg-color: #E8F0FE;\n",
              "      --fill-color: #1967D2;\n",
              "      --hover-bg-color: #E2EBFA;\n",
              "      --hover-fill-color: #174EA6;\n",
              "      --disabled-fill-color: #AAA;\n",
              "      --disabled-bg-color: #DDD;\n",
              "  }\n",
              "\n",
              "  [theme=dark] .colab-df-quickchart {\n",
              "      --bg-color: #3B4455;\n",
              "      --fill-color: #D2E3FC;\n",
              "      --hover-bg-color: #434B5C;\n",
              "      --hover-fill-color: #FFFFFF;\n",
              "      --disabled-bg-color: #3B4455;\n",
              "      --disabled-fill-color: #666;\n",
              "  }\n",
              "\n",
              "  .colab-df-quickchart {\n",
              "    background-color: var(--bg-color);\n",
              "    border: none;\n",
              "    border-radius: 50%;\n",
              "    cursor: pointer;\n",
              "    display: none;\n",
              "    fill: var(--fill-color);\n",
              "    height: 32px;\n",
              "    padding: 0;\n",
              "    width: 32px;\n",
              "  }\n",
              "\n",
              "  .colab-df-quickchart:hover {\n",
              "    background-color: var(--hover-bg-color);\n",
              "    box-shadow: 0 1px 2px rgba(60, 64, 67, 0.3), 0 1px 3px 1px rgba(60, 64, 67, 0.15);\n",
              "    fill: var(--button-hover-fill-color);\n",
              "  }\n",
              "\n",
              "  .colab-df-quickchart-complete:disabled,\n",
              "  .colab-df-quickchart-complete:disabled:hover {\n",
              "    background-color: var(--disabled-bg-color);\n",
              "    fill: var(--disabled-fill-color);\n",
              "    box-shadow: none;\n",
              "  }\n",
              "\n",
              "  .colab-df-spinner {\n",
              "    border: 2px solid var(--fill-color);\n",
              "    border-color: transparent;\n",
              "    border-bottom-color: var(--fill-color);\n",
              "    animation:\n",
              "      spin 1s steps(1) infinite;\n",
              "  }\n",
              "\n",
              "  @keyframes spin {\n",
              "    0% {\n",
              "      border-color: transparent;\n",
              "      border-bottom-color: var(--fill-color);\n",
              "      border-left-color: var(--fill-color);\n",
              "    }\n",
              "    20% {\n",
              "      border-color: transparent;\n",
              "      border-left-color: var(--fill-color);\n",
              "      border-top-color: var(--fill-color);\n",
              "    }\n",
              "    30% {\n",
              "      border-color: transparent;\n",
              "      border-left-color: var(--fill-color);\n",
              "      border-top-color: var(--fill-color);\n",
              "      border-right-color: var(--fill-color);\n",
              "    }\n",
              "    40% {\n",
              "      border-color: transparent;\n",
              "      border-right-color: var(--fill-color);\n",
              "      border-top-color: var(--fill-color);\n",
              "    }\n",
              "    60% {\n",
              "      border-color: transparent;\n",
              "      border-right-color: var(--fill-color);\n",
              "    }\n",
              "    80% {\n",
              "      border-color: transparent;\n",
              "      border-right-color: var(--fill-color);\n",
              "      border-bottom-color: var(--fill-color);\n",
              "    }\n",
              "    90% {\n",
              "      border-color: transparent;\n",
              "      border-bottom-color: var(--fill-color);\n",
              "    }\n",
              "  }\n",
              "</style>\n",
              "\n",
              "  <script>\n",
              "    async function quickchart(key) {\n",
              "      const quickchartButtonEl =\n",
              "        document.querySelector('#' + key + ' button');\n",
              "      quickchartButtonEl.disabled = true;  // To prevent multiple clicks.\n",
              "      quickchartButtonEl.classList.add('colab-df-spinner');\n",
              "      try {\n",
              "        const charts = await google.colab.kernel.invokeFunction(\n",
              "            'suggestCharts', [key], {});\n",
              "      } catch (error) {\n",
              "        console.error('Error during call to suggestCharts:', error);\n",
              "      }\n",
              "      quickchartButtonEl.classList.remove('colab-df-spinner');\n",
              "      quickchartButtonEl.classList.add('colab-df-quickchart-complete');\n",
              "    }\n",
              "    (() => {\n",
              "      let quickchartButtonEl =\n",
              "        document.querySelector('#df-a7b2f30c-53d0-4df1-8e9b-3901fc7e32c6 button');\n",
              "      quickchartButtonEl.style.display =\n",
              "        google.colab.kernel.accessAllowed ? 'block' : 'none';\n",
              "    })();\n",
              "  </script>\n",
              "</div>\n",
              "    </div>\n",
              "  </div>\n"
            ]
          },
          "metadata": {},
          "execution_count": 11
        }
      ],
      "source": [
        "df['max_len_verses'] = [max([len(verse) for verse in song ]) for song in df.verses]\n",
        "df.head()"
      ]
    },
    {
      "cell_type": "markdown",
      "metadata": {
        "id": "Fv54_Q6rzrQ7"
      },
      "source": [
        "Derive a rule to discriminate outliers"
      ]
    },
    {
      "cell_type": "code",
      "execution_count": null,
      "metadata": {
        "id": "SGqlVvDjv3HD"
      },
      "outputs": [],
      "source": [
        "#derive mean and std to find thr outliers:\n",
        "k = 1 #choose k to be manage the number of data to be discarded\n",
        "sup_lim = np.mean(df['max_len_verses'])+ k*np.std(df['max_len_verses'])"
      ]
    },
    {
      "cell_type": "code",
      "execution_count": null,
      "metadata": {
        "id": "6-6juuzsve9x",
        "colab": {
          "base_uri": "https://localhost:8080/"
        },
        "outputId": "80593a9c-2bf0-4b20-cae9-a31db274c487"
      },
      "outputs": [
        {
          "output_type": "display_data",
          "data": {
            "text/plain": [
              "<Figure size 640x480 with 1 Axes>"
            ],
            "image/png": "[encoded data removed]"
          },
          "metadata": {}
        }
      ],
      "source": [
        "plt.plot(df['max_len_verses'])\n",
        "plt.axhline(y=sup_lim, color='r', linestyle='--', label='Limite Superiore')\n",
        "plt.title(\"length of the longest verse for each song\")\n",
        "plt.show()"
      ]
    },
    {
      "cell_type": "code",
      "execution_count": null,
      "metadata": {
        "id": "x5X8SwcpxES5",
        "colab": {
          "base_uri": "https://localhost:8080/"
        },
        "outputId": "f4106339-7737-49d6-a277-2616455db624"
      },
      "outputs": [
        {
          "output_type": "stream",
          "name": "stdout",
          "text": [
            "34 songs will be removed with k = 1\n",
            "we discard songs by: Counter({'Giorgio Gaber': 23, 'Claudio Lolli': 8, 'Francesco Guccini': 3})\n"
          ]
        }
      ],
      "source": [
        "len_ = len(df.Lyrics)\n",
        "number_of_removed = len(df[df['max_len_verses'] <= sup_lim].reset_index(drop=True))\n",
        "print(len_ - number_of_removed, \"songs will be removed with k =\", k)\n",
        "\n",
        "print(\"we discard songs by:\", Counter(df.Author[df['max_len_verses'] > sup_lim]))"
      ]
    },
    {
      "cell_type": "markdown",
      "metadata": {
        "id": "lMc_2IEQz5PX"
      },
      "source": [
        "Remove the outliers"
      ]
    },
    {
      "cell_type": "code",
      "execution_count": null,
      "metadata": {
        "id": "V2TYOLuSyA_c"
      },
      "outputs": [],
      "source": [
        "#34 songs to be discarded it's a good balance between the initial purpose and the dataset size:\n",
        "df = df[df['max_len_verses'] <= sup_lim].reset_index(drop=True)\n",
        "\n",
        "df = df.drop(columns = ['max_len_verses'])"
      ]
    },
    {
      "cell_type": "code",
      "execution_count": null,
      "metadata": {
        "id": "ezj4Z0CCDK--",
        "colab": {
          "base_uri": "https://localhost:8080/"
        },
        "outputId": "8e5d74ee-3fc1-42d1-cc5b-75ccbf9af119"
      },
      "outputs": [
        {
          "output_type": "execute_result",
          "data": {
            "text/plain": [
              "              Author               Title  \\\n",
              "0  Fabrizio De André  La Guerra Di Piero   \n",
              "1  Fabrizio De André          Don Raffaè   \n",
              "\n",
              "                                              Lyrics  \\\n",
              "0  Dormi sepolto in un campo di grano/  Non è la ...   \n",
              "1  Io mi chiamo  Pasquale  Cafiero/  E son brigad...   \n",
              "\n",
              "                                              verses  \n",
              "0  [Dormi sepolto in un campo di grano,   Non è l...  \n",
              "1  [Io mi chiamo  Pasquale  Cafiero,   E son brig...  "
            ],
            "text/html": [
              "\n",
              "  <div id=\"df-a9745b90-f19d-4b60-a900-1eb68b7af883\" class=\"colab-df-container\">\n",
              "    <div>\n",
              "<style scoped>\n",
              "    .dataframe tbody tr th:only-of-type {\n",
              "        vertical-align: middle;\n",
              "    }\n",
              "\n",
              "    .dataframe tbody tr th {\n",
              "        vertical-align: top;\n",
              "    }\n",
              "\n",
              "    .dataframe thead th {\n",
              "        text-align: right;\n",
              "    }\n",
              "</style>\n",
              "<table border=\"1\" class=\"dataframe\">\n",
              "  <thead>\n",
              "    <tr style=\"text-align: right;\">\n",
              "      <th></th>\n",
              "      <th>Author</th>\n",
              "      <th>Title</th>\n",
              "      <th>Lyrics</th>\n",
              "      <th>verses</th>\n",
              "    </tr>\n",
              "  </thead>\n",
              "  <tbody>\n",
              "    <tr>\n",
              "      <th>0</th>\n",
              "      <td>Fabrizio De André</td>\n",
              "      <td>La Guerra Di Piero</td>\n",
              "      <td>Dormi sepolto in un campo di grano/  Non è la ...</td>\n",
              "      <td>[Dormi sepolto in un campo di grano,   Non è l...</td>\n",
              "    </tr>\n",
              "    <tr>\n",
              "      <th>1</th>\n",
              "      <td>Fabrizio De André</td>\n",
              "      <td>Don Raffaè</td>\n",
              "      <td>Io mi chiamo  Pasquale  Cafiero/  E son brigad...</td>\n",
              "      <td>[Io mi chiamo  Pasquale  Cafiero,   E son brig...</td>\n",
              "    </tr>\n",
              "  </tbody>\n",
              "</table>\n",
              "</div>\n",
              "    <div class=\"colab-df-buttons\">\n",
              "\n",
              "  <div class=\"colab-df-container\">\n",
              "    <button class=\"colab-df-convert\" onclick=\"convertToInteractive('df-a9745b90-f19d-4b60-a900-1eb68b7af883')\"\n",
              "            title=\"Convert this dataframe to an interactive table.\"\n",
              "            style=\"display:none;\">\n",
              "\n",
              "  <svg xmlns=\"http://www.w3.org/2000/svg\" height=\"24px\" viewBox=\"0 -960 960 960\">\n",
              "    <path d=\"M120-120v-720h720v720H120Zm60-500h600v-160H180v160Zm220 220h160v-160H400v160Zm0 220h160v-160H400v160ZM180-400h160v-160H180v160Zm440 0h160v-160H620v160ZM180-180h160v-160H180v160Zm440 0h160v-160H620v160Z\"/>\n",
              "  </svg>\n",
              "    </button>\n",
              "\n",
              "  <style>\n",
              "    .colab-df-container {\n",
              "      display:flex;\n",
              "      gap: 12px;\n",
              "    }\n",
              "\n",
              "    .colab-df-convert {\n",
              "      background-color: #E8F0FE;\n",
              "      border: none;\n",
              "      border-radius: 50%;\n",
              "      cursor: pointer;\n",
              "      display: none;\n",
              "      fill: #1967D2;\n",
              "      height: 32px;\n",
              "      padding: 0 0 0 0;\n",
              "      width: 32px;\n",
              "    }\n",
              "\n",
              "    .colab-df-convert:hover {\n",
              "      background-color: #E2EBFA;\n",
              "      box-shadow: 0px 1px 2px rgba(60, 64, 67, 0.3), 0px 1px 3px 1px rgba(60, 64, 67, 0.15);\n",
              "      fill: #174EA6;\n",
              "    }\n",
              "\n",
              "    .colab-df-buttons div {\n",
              "      margin-bottom: 4px;\n",
              "    }\n",
              "\n",
              "    [theme=dark] .colab-df-convert {\n",
              "      background-color: #3B4455;\n",
              "      fill: #D2E3FC;\n",
              "    }\n",
              "\n",
              "    [theme=dark] .colab-df-convert:hover {\n",
              "      background-color: #434B5C;\n",
              "      box-shadow: 0px 1px 3px 1px rgba(0, 0, 0, 0.15);\n",
              "      filter: drop-shadow(0px 1px 2px rgba(0, 0, 0, 0.3));\n",
              "      fill: #FFFFFF;\n",
              "    }\n",
              "  </style>\n",
              "\n",
              "    <script>\n",
              "      const buttonEl =\n",
              "        document.querySelector('#df-a9745b90-f19d-4b60-a900-1eb68b7af883 button.colab-df-convert');\n",
              "      buttonEl.style.display =\n",
              "        google.colab.kernel.accessAllowed ? 'block' : 'none';\n",
              "\n",
              "      async function convertToInteractive(key) {\n",
              "        const element = document.querySelector('#df-a9745b90-f19d-4b60-a900-1eb68b7af883');\n",
              "        const dataTable =\n",
              "          await google.colab.kernel.invokeFunction('convertToInteractive',\n",
              "                                                    [key], {});\n",
              "        if (!dataTable) return;\n",
              "\n",
              "        const docLinkHtml = 'Like what you see? Visit the ' +\n",
              "          '<a target=\"_blank\" href=https://colab.research.google.com/notebooks/data_table.ipynb>data table notebook</a>'\n",
              "          + ' to learn more about interactive tables.';\n",
              "        element.innerHTML = '';\n",
              "        dataTable['output_type'] = 'display_data';\n",
              "        await google.colab.output.renderOutput(dataTable, element);\n",
              "        const docLink = document.createElement('div');\n",
              "        docLink.innerHTML = docLinkHtml;\n",
              "        element.appendChild(docLink);\n",
              "      }\n",
              "    </script>\n",
              "  </div>\n",
              "\n",
              "\n",
              "<div id=\"df-8bf37140-9a79-4d92-837d-f8e06d92f969\">\n",
              "  <button class=\"colab-df-quickchart\" onclick=\"quickchart('df-8bf37140-9a79-4d92-837d-f8e06d92f969')\"\n",
              "            title=\"Suggest charts\"\n",
              "            style=\"display:none;\">\n",
              "\n",
              "<svg xmlns=\"http://www.w3.org/2000/svg\" height=\"24px\"viewBox=\"0 0 24 24\"\n",
              "     width=\"24px\">\n",
              "    <g>\n",
              "        <path d=\"M19 3H5c-1.1 0-2 .9-2 2v14c0 1.1.9 2 2 2h14c1.1 0 2-.9 2-2V5c0-1.1-.9-2-2-2zM9 17H7v-7h2v7zm4 0h-2V7h2v10zm4 0h-2v-4h2v4z\"/>\n",
              "    </g>\n",
              "</svg>\n",
              "  </button>\n",
              "\n",
              "<style>\n",
              "  .colab-df-quickchart {\n",
              "      --bg-color: #E8F0FE;\n",
              "      --fill-color: #1967D2;\n",
              "      --hover-bg-color: #E2EBFA;\n",
              "      --hover-fill-color: #174EA6;\n",
              "      --disabled-fill-color: #AAA;\n",
              "      --disabled-bg-color: #DDD;\n",
              "  }\n",
              "\n",
              "  [theme=dark] .colab-df-quickchart {\n",
              "      --bg-color: #3B4455;\n",
              "      --fill-color: #D2E3FC;\n",
              "      --hover-bg-color: #434B5C;\n",
              "      --hover-fill-color: #FFFFFF;\n",
              "      --disabled-bg-color: #3B4455;\n",
              "      --disabled-fill-color: #666;\n",
              "  }\n",
              "\n",
              "  .colab-df-quickchart {\n",
              "    background-color: var(--bg-color);\n",
              "    border: none;\n",
              "    border-radius: 50%;\n",
              "    cursor: pointer;\n",
              "    display: none;\n",
              "    fill: var(--fill-color);\n",
              "    height: 32px;\n",
              "    padding: 0;\n",
              "    width: 32px;\n",
              "  }\n",
              "\n",
              "  .colab-df-quickchart:hover {\n",
              "    background-color: var(--hover-bg-color);\n",
              "    box-shadow: 0 1px 2px rgba(60, 64, 67, 0.3), 0 1px 3px 1px rgba(60, 64, 67, 0.15);\n",
              "    fill: var(--button-hover-fill-color);\n",
              "  }\n",
              "\n",
              "  .colab-df-quickchart-complete:disabled,\n",
              "  .colab-df-quickchart-complete:disabled:hover {\n",
              "    background-color: var(--disabled-bg-color);\n",
              "    fill: var(--disabled-fill-color);\n",
              "    box-shadow: none;\n",
              "  }\n",
              "\n",
              "  .colab-df-spinner {\n",
              "    border: 2px solid var(--fill-color);\n",
              "    border-color: transparent;\n",
              "    border-bottom-color: var(--fill-color);\n",
              "    animation:\n",
              "      spin 1s steps(1) infinite;\n",
              "  }\n",
              "\n",
              "  @keyframes spin {\n",
              "    0% {\n",
              "      border-color: transparent;\n",
              "      border-bottom-color: var(--fill-color);\n",
              "      border-left-color: var(--fill-color);\n",
              "    }\n",
              "    20% {\n",
              "      border-color: transparent;\n",
              "      border-left-color: var(--fill-color);\n",
              "      border-top-color: var(--fill-color);\n",
              "    }\n",
              "    30% {\n",
              "      border-color: transparent;\n",
              "      border-left-color: var(--fill-color);\n",
              "      border-top-color: var(--fill-color);\n",
              "      border-right-color: var(--fill-color);\n",
              "    }\n",
              "    40% {\n",
              "      border-color: transparent;\n",
              "      border-right-color: var(--fill-color);\n",
              "      border-top-color: var(--fill-color);\n",
              "    }\n",
              "    60% {\n",
              "      border-color: transparent;\n",
              "      border-right-color: var(--fill-color);\n",
              "    }\n",
              "    80% {\n",
              "      border-color: transparent;\n",
              "      border-right-color: var(--fill-color);\n",
              "      border-bottom-color: var(--fill-color);\n",
              "    }\n",
              "    90% {\n",
              "      border-color: transparent;\n",
              "      border-bottom-color: var(--fill-color);\n",
              "    }\n",
              "  }\n",
              "</style>\n",
              "\n",
              "  <script>\n",
              "    async function quickchart(key) {\n",
              "      const quickchartButtonEl =\n",
              "        document.querySelector('#' + key + ' button');\n",
              "      quickchartButtonEl.disabled = true;  // To prevent multiple clicks.\n",
              "      quickchartButtonEl.classList.add('colab-df-spinner');\n",
              "      try {\n",
              "        const charts = await google.colab.kernel.invokeFunction(\n",
              "            'suggestCharts', [key], {});\n",
              "      } catch (error) {\n",
              "        console.error('Error during call to suggestCharts:', error);\n",
              "      }\n",
              "      quickchartButtonEl.classList.remove('colab-df-spinner');\n",
              "      quickchartButtonEl.classList.add('colab-df-quickchart-complete');\n",
              "    }\n",
              "    (() => {\n",
              "      let quickchartButtonEl =\n",
              "        document.querySelector('#df-8bf37140-9a79-4d92-837d-f8e06d92f969 button');\n",
              "      quickchartButtonEl.style.display =\n",
              "        google.colab.kernel.accessAllowed ? 'block' : 'none';\n",
              "    })();\n",
              "  </script>\n",
              "</div>\n",
              "    </div>\n",
              "  </div>\n"
            ]
          },
          "metadata": {},
          "execution_count": 16
        }
      ],
      "source": [
        "df.head(2)"
      ]
    },
    {
      "cell_type": "markdown",
      "metadata": {
        "id": "2WE2SGCYEH6k"
      },
      "source": [
        "### Text preprocessing\n",
        "* remove uppercase, punctuation, extra spaces, non ASCII chars\n",
        "* Stopword removal + Lemmatization"
      ]
    },
    {
      "cell_type": "code",
      "execution_count": null,
      "metadata": {
        "id": "FJtyI2PMC1Vw",
        "colab": {
          "base_uri": "https://localhost:8080/",
          "height": 112
        },
        "outputId": "ba923919-582b-4e8a-b587-9fc001754bcf"
      },
      "outputs": [
        {
          "output_type": "execute_result",
          "data": {
            "text/plain": [
              "              Author               Title  \\\n",
              "0  Fabrizio De André  La Guerra Di Piero   \n",
              "1  Fabrizio De André          Don Raffaè   \n",
              "\n",
              "                                              Lyrics  \\\n",
              "0  dormi sepolto in un campo di grano/ non è la r...   \n",
              "1  io mi chiamo pasquale cafiero/ e son brigadier...   \n",
              "\n",
              "                                              verses  \n",
              "0  [Dormi sepolto in un campo di grano,   Non è l...  \n",
              "1  [Io mi chiamo  Pasquale  Cafiero,   E son brig...  "
            ],
            "text/html": [
              "\n",
              "  <div id=\"df-3564e8ce-48c5-4626-bc70-53c1a5644114\" class=\"colab-df-container\">\n",
              "    <div>\n",
              "<style scoped>\n",
              "    .dataframe tbody tr th:only-of-type {\n",
              "        vertical-align: middle;\n",
              "    }\n",
              "\n",
              "    .dataframe tbody tr th {\n",
              "        vertical-align: top;\n",
              "    }\n",
              "\n",
              "    .dataframe thead th {\n",
              "        text-align: right;\n",
              "    }\n",
              "</style>\n",
              "<table border=\"1\" class=\"dataframe\">\n",
              "  <thead>\n",
              "    <tr style=\"text-align: right;\">\n",
              "      <th></th>\n",
              "      <th>Author</th>\n",
              "      <th>Title</th>\n",
              "      <th>Lyrics</th>\n",
              "      <th>verses</th>\n",
              "    </tr>\n",
              "  </thead>\n",
              "  <tbody>\n",
              "    <tr>\n",
              "      <th>0</th>\n",
              "      <td>Fabrizio De André</td>\n",
              "      <td>La Guerra Di Piero</td>\n",
              "      <td>dormi sepolto in un campo di grano/ non è la r...</td>\n",
              "      <td>[Dormi sepolto in un campo di grano,   Non è l...</td>\n",
              "    </tr>\n",
              "    <tr>\n",
              "      <th>1</th>\n",
              "      <td>Fabrizio De André</td>\n",
              "      <td>Don Raffaè</td>\n",
              "      <td>io mi chiamo pasquale cafiero/ e son brigadier...</td>\n",
              "      <td>[Io mi chiamo  Pasquale  Cafiero,   E son brig...</td>\n",
              "    </tr>\n",
              "  </tbody>\n",
              "</table>\n",
              "</div>\n",
              "    <div class=\"colab-df-buttons\">\n",
              "\n",
              "  <div class=\"colab-df-container\">\n",
              "    <button class=\"colab-df-convert\" onclick=\"convertToInteractive('df-3564e8ce-48c5-4626-bc70-53c1a5644114')\"\n",
              "            title=\"Convert this dataframe to an interactive table.\"\n",
              "            style=\"display:none;\">\n",
              "\n",
              "  <svg xmlns=\"http://www.w3.org/2000/svg\" height=\"24px\" viewBox=\"0 -960 960 960\">\n",
              "    <path d=\"M120-120v-720h720v720H120Zm60-500h600v-160H180v160Zm220 220h160v-160H400v160Zm0 220h160v-160H400v160ZM180-400h160v-160H180v160Zm440 0h160v-160H620v160ZM180-180h160v-160H180v160Zm440 0h160v-160H620v160Z\"/>\n",
              "  </svg>\n",
              "    </button>\n",
              "\n",
              "  <style>\n",
              "    .colab-df-container {\n",
              "      display:flex;\n",
              "      gap: 12px;\n",
              "    }\n",
              "\n",
              "    .colab-df-convert {\n",
              "      background-color: #E8F0FE;\n",
              "      border: none;\n",
              "      border-radius: 50%;\n",
              "      cursor: pointer;\n",
              "      display: none;\n",
              "      fill: #1967D2;\n",
              "      height: 32px;\n",
              "      padding: 0 0 0 0;\n",
              "      width: 32px;\n",
              "    }\n",
              "\n",
              "    .colab-df-convert:hover {\n",
              "      background-color: #E2EBFA;\n",
              "      box-shadow: 0px 1px 2px rgba(60, 64, 67, 0.3), 0px 1px 3px 1px rgba(60, 64, 67, 0.15);\n",
              "      fill: #174EA6;\n",
              "    }\n",
              "\n",
              "    .colab-df-buttons div {\n",
              "      margin-bottom: 4px;\n",
              "    }\n",
              "\n",
              "    [theme=dark] .colab-df-convert {\n",
              "      background-color: #3B4455;\n",
              "      fill: #D2E3FC;\n",
              "    }\n",
              "\n",
              "    [theme=dark] .colab-df-convert:hover {\n",
              "      background-color: #434B5C;\n",
              "      box-shadow: 0px 1px 3px 1px rgba(0, 0, 0, 0.15);\n",
              "      filter: drop-shadow(0px 1px 2px rgba(0, 0, 0, 0.3));\n",
              "      fill: #FFFFFF;\n",
              "    }\n",
              "  </style>\n",
              "\n",
              "    <script>\n",
              "      const buttonEl =\n",
              "        document.querySelector('#df-3564e8ce-48c5-4626-bc70-53c1a5644114 button.colab-df-convert');\n",
              "      buttonEl.style.display =\n",
              "        google.colab.kernel.accessAllowed ? 'block' : 'none';\n",
              "\n",
              "      async function convertToInteractive(key) {\n",
              "        const element = document.querySelector('#df-3564e8ce-48c5-4626-bc70-53c1a5644114');\n",
              "        const dataTable =\n",
              "          await google.colab.kernel.invokeFunction('convertToInteractive',\n",
              "                                                    [key], {});\n",
              "        if (!dataTable) return;\n",
              "\n",
              "        const docLinkHtml = 'Like what you see? Visit the ' +\n",
              "          '<a target=\"_blank\" href=https://colab.research.google.com/notebooks/data_table.ipynb>data table notebook</a>'\n",
              "          + ' to learn more about interactive tables.';\n",
              "        element.innerHTML = '';\n",
              "        dataTable['output_type'] = 'display_data';\n",
              "        await google.colab.output.renderOutput(dataTable, element);\n",
              "        const docLink = document.createElement('div');\n",
              "        docLink.innerHTML = docLinkHtml;\n",
              "        element.appendChild(docLink);\n",
              "      }\n",
              "    </script>\n",
              "  </div>\n",
              "\n",
              "\n",
              "<div id=\"df-18b482d1-21f0-42d7-87dd-aafb2ad0e4fe\">\n",
              "  <button class=\"colab-df-quickchart\" onclick=\"quickchart('df-18b482d1-21f0-42d7-87dd-aafb2ad0e4fe')\"\n",
              "            title=\"Suggest charts\"\n",
              "            style=\"display:none;\">\n",
              "\n",
              "<svg xmlns=\"http://www.w3.org/2000/svg\" height=\"24px\"viewBox=\"0 0 24 24\"\n",
              "     width=\"24px\">\n",
              "    <g>\n",
              "        <path d=\"M19 3H5c-1.1 0-2 .9-2 2v14c0 1.1.9 2 2 2h14c1.1 0 2-.9 2-2V5c0-1.1-.9-2-2-2zM9 17H7v-7h2v7zm4 0h-2V7h2v10zm4 0h-2v-4h2v4z\"/>\n",
              "    </g>\n",
              "</svg>\n",
              "  </button>\n",
              "\n",
              "<style>\n",
              "  .colab-df-quickchart {\n",
              "      --bg-color: #E8F0FE;\n",
              "      --fill-color: #1967D2;\n",
              "      --hover-bg-color: #E2EBFA;\n",
              "      --hover-fill-color: #174EA6;\n",
              "      --disabled-fill-color: #AAA;\n",
              "      --disabled-bg-color: #DDD;\n",
              "  }\n",
              "\n",
              "  [theme=dark] .colab-df-quickchart {\n",
              "      --bg-color: #3B4455;\n",
              "      --fill-color: #D2E3FC;\n",
              "      --hover-bg-color: #434B5C;\n",
              "      --hover-fill-color: #FFFFFF;\n",
              "      --disabled-bg-color: #3B4455;\n",
              "      --disabled-fill-color: #666;\n",
              "  }\n",
              "\n",
              "  .colab-df-quickchart {\n",
              "    background-color: var(--bg-color);\n",
              "    border: none;\n",
              "    border-radius: 50%;\n",
              "    cursor: pointer;\n",
              "    display: none;\n",
              "    fill: var(--fill-color);\n",
              "    height: 32px;\n",
              "    padding: 0;\n",
              "    width: 32px;\n",
              "  }\n",
              "\n",
              "  .colab-df-quickchart:hover {\n",
              "    background-color: var(--hover-bg-color);\n",
              "    box-shadow: 0 1px 2px rgba(60, 64, 67, 0.3), 0 1px 3px 1px rgba(60, 64, 67, 0.15);\n",
              "    fill: var(--button-hover-fill-color);\n",
              "  }\n",
              "\n",
              "  .colab-df-quickchart-complete:disabled,\n",
              "  .colab-df-quickchart-complete:disabled:hover {\n",
              "    background-color: var(--disabled-bg-color);\n",
              "    fill: var(--disabled-fill-color);\n",
              "    box-shadow: none;\n",
              "  }\n",
              "\n",
              "  .colab-df-spinner {\n",
              "    border: 2px solid var(--fill-color);\n",
              "    border-color: transparent;\n",
              "    border-bottom-color: var(--fill-color);\n",
              "    animation:\n",
              "      spin 1s steps(1) infinite;\n",
              "  }\n",
              "\n",
              "  @keyframes spin {\n",
              "    0% {\n",
              "      border-color: transparent;\n",
              "      border-bottom-color: var(--fill-color);\n",
              "      border-left-color: var(--fill-color);\n",
              "    }\n",
              "    20% {\n",
              "      border-color: transparent;\n",
              "      border-left-color: var(--fill-color);\n",
              "      border-top-color: var(--fill-color);\n",
              "    }\n",
              "    30% {\n",
              "      border-color: transparent;\n",
              "      border-left-color: var(--fill-color);\n",
              "      border-top-color: var(--fill-color);\n",
              "      border-right-color: var(--fill-color);\n",
              "    }\n",
              "    40% {\n",
              "      border-color: transparent;\n",
              "      border-right-color: var(--fill-color);\n",
              "      border-top-color: var(--fill-color);\n",
              "    }\n",
              "    60% {\n",
              "      border-color: transparent;\n",
              "      border-right-color: var(--fill-color);\n",
              "    }\n",
              "    80% {\n",
              "      border-color: transparent;\n",
              "      border-right-color: var(--fill-color);\n",
              "      border-bottom-color: var(--fill-color);\n",
              "    }\n",
              "    90% {\n",
              "      border-color: transparent;\n",
              "      border-bottom-color: var(--fill-color);\n",
              "    }\n",
              "  }\n",
              "</style>\n",
              "\n",
              "  <script>\n",
              "    async function quickchart(key) {\n",
              "      const quickchartButtonEl =\n",
              "        document.querySelector('#' + key + ' button');\n",
              "      quickchartButtonEl.disabled = true;  // To prevent multiple clicks.\n",
              "      quickchartButtonEl.classList.add('colab-df-spinner');\n",
              "      try {\n",
              "        const charts = await google.colab.kernel.invokeFunction(\n",
              "            'suggestCharts', [key], {});\n",
              "      } catch (error) {\n",
              "        console.error('Error during call to suggestCharts:', error);\n",
              "      }\n",
              "      quickchartButtonEl.classList.remove('colab-df-spinner');\n",
              "      quickchartButtonEl.classList.add('colab-df-quickchart-complete');\n",
              "    }\n",
              "    (() => {\n",
              "      let quickchartButtonEl =\n",
              "        document.querySelector('#df-18b482d1-21f0-42d7-87dd-aafb2ad0e4fe button');\n",
              "      quickchartButtonEl.style.display =\n",
              "        google.colab.kernel.accessAllowed ? 'block' : 'none';\n",
              "    })();\n",
              "  </script>\n",
              "</div>\n",
              "    </div>\n",
              "  </div>\n"
            ]
          },
          "metadata": {},
          "execution_count": 17
        }
      ],
      "source": [
        "#Remove Uppercase:\n",
        "df['Lyrics'] = [song.lower() for song in df.Lyrics]\n",
        "\n",
        "#Remove Punctuation (Note that i don't remove '/' which is the char that divide the songs by verses, it will be removed after the lemmatization.)\n",
        "punctuation_pattern = \"[!\\\"#$%&()*+,-.:;<=>?@[\\\\]^_`{|}~]\"\n",
        "df.Lyrics = [PREPROCESSING.remove_punctuation(song, punctuation_pattern) for song in df.Lyrics]\n",
        "\n",
        "#Remove Extra spaces\n",
        "df.Lyrics =  [re.sub(r'\\s+', ' ', song) for song in df.Lyrics]\n",
        "\n",
        "#Trasform non italian characters: ż -> z, ñ -> n, for example.\n",
        "accepted_accents = ['à', 'è', 'é', 'ì', 'ò', 'ù']\n",
        "df.Lyrics = [PREPROCESSING.fix_accents(word, accepted_accents) for word in df.Lyrics]\n",
        "\n",
        "df.head(2)"
      ]
    },
    {
      "cell_type": "markdown",
      "metadata": {
        "id": "VMCTtSRfE3DT"
      },
      "source": [
        "remove non-ASCII/special characters"
      ]
    },
    {
      "cell_type": "code",
      "execution_count": null,
      "metadata": {
        "id": "gGJldFz0C1ZQ",
        "colab": {
          "base_uri": "https://localhost:8080/",
          "height": 112
        },
        "outputId": "971d09d9-10f1-48de-8f49-826b791c841c"
      },
      "outputs": [
        {
          "output_type": "execute_result",
          "data": {
            "text/plain": [
              "              Author               Title  \\\n",
              "0  Fabrizio De André  La Guerra Di Piero   \n",
              "1  Fabrizio De André          Don Raffaè   \n",
              "\n",
              "                                              Lyrics  \\\n",
              "0  dormi sepolto in un campo di grano/ non è la r...   \n",
              "1  io mi chiamo pasquale cafiero/ e son brigadier...   \n",
              "\n",
              "                                              verses  \n",
              "0  [Dormi sepolto in un campo di grano,   Non è l...  \n",
              "1  [Io mi chiamo  Pasquale  Cafiero,   E son brig...  "
            ],
            "text/html": [
              "\n",
              "  <div id=\"df-24170fc2-037e-4047-a17a-755e28e6bef6\" class=\"colab-df-container\">\n",
              "    <div>\n",
              "<style scoped>\n",
              "    .dataframe tbody tr th:only-of-type {\n",
              "        vertical-align: middle;\n",
              "    }\n",
              "\n",
              "    .dataframe tbody tr th {\n",
              "        vertical-align: top;\n",
              "    }\n",
              "\n",
              "    .dataframe thead th {\n",
              "        text-align: right;\n",
              "    }\n",
              "</style>\n",
              "<table border=\"1\" class=\"dataframe\">\n",
              "  <thead>\n",
              "    <tr style=\"text-align: right;\">\n",
              "      <th></th>\n",
              "      <th>Author</th>\n",
              "      <th>Title</th>\n",
              "      <th>Lyrics</th>\n",
              "      <th>verses</th>\n",
              "    </tr>\n",
              "  </thead>\n",
              "  <tbody>\n",
              "    <tr>\n",
              "      <th>0</th>\n",
              "      <td>Fabrizio De André</td>\n",
              "      <td>La Guerra Di Piero</td>\n",
              "      <td>dormi sepolto in un campo di grano/ non è la r...</td>\n",
              "      <td>[Dormi sepolto in un campo di grano,   Non è l...</td>\n",
              "    </tr>\n",
              "    <tr>\n",
              "      <th>1</th>\n",
              "      <td>Fabrizio De André</td>\n",
              "      <td>Don Raffaè</td>\n",
              "      <td>io mi chiamo pasquale cafiero/ e son brigadier...</td>\n",
              "      <td>[Io mi chiamo  Pasquale  Cafiero,   E son brig...</td>\n",
              "    </tr>\n",
              "  </tbody>\n",
              "</table>\n",
              "</div>\n",
              "    <div class=\"colab-df-buttons\">\n",
              "\n",
              "  <div class=\"colab-df-container\">\n",
              "    <button class=\"colab-df-convert\" onclick=\"convertToInteractive('df-24170fc2-037e-4047-a17a-755e28e6bef6')\"\n",
              "            title=\"Convert this dataframe to an interactive table.\"\n",
              "            style=\"display:none;\">\n",
              "\n",
              "  <svg xmlns=\"http://www.w3.org/2000/svg\" height=\"24px\" viewBox=\"0 -960 960 960\">\n",
              "    <path d=\"M120-120v-720h720v720H120Zm60-500h600v-160H180v160Zm220 220h160v-160H400v160Zm0 220h160v-160H400v160ZM180-400h160v-160H180v160Zm440 0h160v-160H620v160ZM180-180h160v-160H180v160Zm440 0h160v-160H620v160Z\"/>\n",
              "  </svg>\n",
              "    </button>\n",
              "\n",
              "  <style>\n",
              "    .colab-df-container {\n",
              "      display:flex;\n",
              "      gap: 12px;\n",
              "    }\n",
              "\n",
              "    .colab-df-convert {\n",
              "      background-color: #E8F0FE;\n",
              "      border: none;\n",
              "      border-radius: 50%;\n",
              "      cursor: pointer;\n",
              "      display: none;\n",
              "      fill: #1967D2;\n",
              "      height: 32px;\n",
              "      padding: 0 0 0 0;\n",
              "      width: 32px;\n",
              "    }\n",
              "\n",
              "    .colab-df-convert:hover {\n",
              "      background-color: #E2EBFA;\n",
              "      box-shadow: 0px 1px 2px rgba(60, 64, 67, 0.3), 0px 1px 3px 1px rgba(60, 64, 67, 0.15);\n",
              "      fill: #174EA6;\n",
              "    }\n",
              "\n",
              "    .colab-df-buttons div {\n",
              "      margin-bottom: 4px;\n",
              "    }\n",
              "\n",
              "    [theme=dark] .colab-df-convert {\n",
              "      background-color: #3B4455;\n",
              "      fill: #D2E3FC;\n",
              "    }\n",
              "\n",
              "    [theme=dark] .colab-df-convert:hover {\n",
              "      background-color: #434B5C;\n",
              "      box-shadow: 0px 1px 3px 1px rgba(0, 0, 0, 0.15);\n",
              "      filter: drop-shadow(0px 1px 2px rgba(0, 0, 0, 0.3));\n",
              "      fill: #FFFFFF;\n",
              "    }\n",
              "  </style>\n",
              "\n",
              "    <script>\n",
              "      const buttonEl =\n",
              "        document.querySelector('#df-24170fc2-037e-4047-a17a-755e28e6bef6 button.colab-df-convert');\n",
              "      buttonEl.style.display =\n",
              "        google.colab.kernel.accessAllowed ? 'block' : 'none';\n",
              "\n",
              "      async function convertToInteractive(key) {\n",
              "        const element = document.querySelector('#df-24170fc2-037e-4047-a17a-755e28e6bef6');\n",
              "        const dataTable =\n",
              "          await google.colab.kernel.invokeFunction('convertToInteractive',\n",
              "                                                    [key], {});\n",
              "        if (!dataTable) return;\n",
              "\n",
              "        const docLinkHtml = 'Like what you see? Visit the ' +\n",
              "          '<a target=\"_blank\" href=https://colab.research.google.com/notebooks/data_table.ipynb>data table notebook</a>'\n",
              "          + ' to learn more about interactive tables.';\n",
              "        element.innerHTML = '';\n",
              "        dataTable['output_type'] = 'display_data';\n",
              "        await google.colab.output.renderOutput(dataTable, element);\n",
              "        const docLink = document.createElement('div');\n",
              "        docLink.innerHTML = docLinkHtml;\n",
              "        element.appendChild(docLink);\n",
              "      }\n",
              "    </script>\n",
              "  </div>\n",
              "\n",
              "\n",
              "<div id=\"df-3ecfc8cc-a15b-4d60-b60b-539ff717119a\">\n",
              "  <button class=\"colab-df-quickchart\" onclick=\"quickchart('df-3ecfc8cc-a15b-4d60-b60b-539ff717119a')\"\n",
              "            title=\"Suggest charts\"\n",
              "            style=\"display:none;\">\n",
              "\n",
              "<svg xmlns=\"http://www.w3.org/2000/svg\" height=\"24px\"viewBox=\"0 0 24 24\"\n",
              "     width=\"24px\">\n",
              "    <g>\n",
              "        <path d=\"M19 3H5c-1.1 0-2 .9-2 2v14c0 1.1.9 2 2 2h14c1.1 0 2-.9 2-2V5c0-1.1-.9-2-2-2zM9 17H7v-7h2v7zm4 0h-2V7h2v10zm4 0h-2v-4h2v4z\"/>\n",
              "    </g>\n",
              "</svg>\n",
              "  </button>\n",
              "\n",
              "<style>\n",
              "  .colab-df-quickchart {\n",
              "      --bg-color: #E8F0FE;\n",
              "      --fill-color: #1967D2;\n",
              "      --hover-bg-color: #E2EBFA;\n",
              "      --hover-fill-color: #174EA6;\n",
              "      --disabled-fill-color: #AAA;\n",
              "      --disabled-bg-color: #DDD;\n",
              "  }\n",
              "\n",
              "  [theme=dark] .colab-df-quickchart {\n",
              "      --bg-color: #3B4455;\n",
              "      --fill-color: #D2E3FC;\n",
              "      --hover-bg-color: #434B5C;\n",
              "      --hover-fill-color: #FFFFFF;\n",
              "      --disabled-bg-color: #3B4455;\n",
              "      --disabled-fill-color: #666;\n",
              "  }\n",
              "\n",
              "  .colab-df-quickchart {\n",
              "    background-color: var(--bg-color);\n",
              "    border: none;\n",
              "    border-radius: 50%;\n",
              "    cursor: pointer;\n",
              "    display: none;\n",
              "    fill: var(--fill-color);\n",
              "    height: 32px;\n",
              "    padding: 0;\n",
              "    width: 32px;\n",
              "  }\n",
              "\n",
              "  .colab-df-quickchart:hover {\n",
              "    background-color: var(--hover-bg-color);\n",
              "    box-shadow: 0 1px 2px rgba(60, 64, 67, 0.3), 0 1px 3px 1px rgba(60, 64, 67, 0.15);\n",
              "    fill: var(--button-hover-fill-color);\n",
              "  }\n",
              "\n",
              "  .colab-df-quickchart-complete:disabled,\n",
              "  .colab-df-quickchart-complete:disabled:hover {\n",
              "    background-color: var(--disabled-bg-color);\n",
              "    fill: var(--disabled-fill-color);\n",
              "    box-shadow: none;\n",
              "  }\n",
              "\n",
              "  .colab-df-spinner {\n",
              "    border: 2px solid var(--fill-color);\n",
              "    border-color: transparent;\n",
              "    border-bottom-color: var(--fill-color);\n",
              "    animation:\n",
              "      spin 1s steps(1) infinite;\n",
              "  }\n",
              "\n",
              "  @keyframes spin {\n",
              "    0% {\n",
              "      border-color: transparent;\n",
              "      border-bottom-color: var(--fill-color);\n",
              "      border-left-color: var(--fill-color);\n",
              "    }\n",
              "    20% {\n",
              "      border-color: transparent;\n",
              "      border-left-color: var(--fill-color);\n",
              "      border-top-color: var(--fill-color);\n",
              "    }\n",
              "    30% {\n",
              "      border-color: transparent;\n",
              "      border-left-color: var(--fill-color);\n",
              "      border-top-color: var(--fill-color);\n",
              "      border-right-color: var(--fill-color);\n",
              "    }\n",
              "    40% {\n",
              "      border-color: transparent;\n",
              "      border-right-color: var(--fill-color);\n",
              "      border-top-color: var(--fill-color);\n",
              "    }\n",
              "    60% {\n",
              "      border-color: transparent;\n",
              "      border-right-color: var(--fill-color);\n",
              "    }\n",
              "    80% {\n",
              "      border-color: transparent;\n",
              "      border-right-color: var(--fill-color);\n",
              "      border-bottom-color: var(--fill-color);\n",
              "    }\n",
              "    90% {\n",
              "      border-color: transparent;\n",
              "      border-bottom-color: var(--fill-color);\n",
              "    }\n",
              "  }\n",
              "</style>\n",
              "\n",
              "  <script>\n",
              "    async function quickchart(key) {\n",
              "      const quickchartButtonEl =\n",
              "        document.querySelector('#' + key + ' button');\n",
              "      quickchartButtonEl.disabled = true;  // To prevent multiple clicks.\n",
              "      quickchartButtonEl.classList.add('colab-df-spinner');\n",
              "      try {\n",
              "        const charts = await google.colab.kernel.invokeFunction(\n",
              "            'suggestCharts', [key], {});\n",
              "      } catch (error) {\n",
              "        console.error('Error during call to suggestCharts:', error);\n",
              "      }\n",
              "      quickchartButtonEl.classList.remove('colab-df-spinner');\n",
              "      quickchartButtonEl.classList.add('colab-df-quickchart-complete');\n",
              "    }\n",
              "    (() => {\n",
              "      let quickchartButtonEl =\n",
              "        document.querySelector('#df-3ecfc8cc-a15b-4d60-b60b-539ff717119a button');\n",
              "      quickchartButtonEl.style.display =\n",
              "        google.colab.kernel.accessAllowed ? 'block' : 'none';\n",
              "    })();\n",
              "  </script>\n",
              "</div>\n",
              "    </div>\n",
              "  </div>\n"
            ]
          },
          "metadata": {},
          "execution_count": 18
        }
      ],
      "source": [
        "#Delete all the characters that does not match the alphabet (like numbers and symbols)\n",
        "\n",
        "#check the characters that i have in the lyrics\n",
        "unique_char = [c for lista in df.Lyrics for c in lista]\n",
        "unique_char = set(unique_char)\n",
        "\n",
        "#store the alphabet (+ space and accents)\n",
        "alphabet = list(string.ascii_lowercase) + [\" \", 'à', 'è', 'é', 'ì', 'ò', 'ù', '/', \"'\"]\n",
        "\n",
        "#store all the chars not in alphabet\n",
        "del_char = [char for char in unique_char if char not in alphabet]\n",
        "\n",
        "#remove char not in alphabet:\n",
        "df['Lyrics'] = [PREPROCESSING.delete_chars(song, del_char) for song in df.Lyrics]\n",
        "\n",
        "df.head(2)"
      ]
    },
    {
      "cell_type": "markdown",
      "source": [
        "remove songs in foreign languages\n",
        "* there are several methods, no one is able to delete all the songs in dialets or in foreign languages (like creuza de ma or sidun)"
      ],
      "metadata": {
        "id": "b0bgH9M47ZDa"
      }
    },
    {
      "cell_type": "code",
      "source": [
        "df['language'] = [PREPROCESSING.text_language(lyric) for lyric in progress_bar(df.Lyrics)]\n",
        "print(\"\\nnumber of song deleted:\", len(df[df.language != 'it']))\n",
        "df = df[df.language == 'it'].reset_index(drop = True) #remove non italian lyrics\n",
        "df = df.drop(columns = ['language'])"
      ],
      "metadata": {
        "colab": {
          "base_uri": "https://localhost:8080/"
        },
        "id": "QLBPJp-Yeqvc",
        "outputId": "3d90ce27-b5de-40a0-f8e5-53ef2fa19669"
      },
      "execution_count": null,
      "outputs": [
        {
          "output_type": "stream",
          "name": "stderr",
          "text": [
            "100%|██████████| 444/444 [00:03<00:00, 125.81it/s]"
          ]
        },
        {
          "output_type": "stream",
          "name": "stdout",
          "text": [
            "\n",
            "number of song deleted: 5\n"
          ]
        },
        {
          "output_type": "stream",
          "name": "stderr",
          "text": [
            "\n"
          ]
        }
      ]
    },
    {
      "cell_type": "code",
      "source": [
        "df.Lyrics[40]"
      ],
      "metadata": {
        "id": "EwZ_odYHkAbV",
        "outputId": "e9c89410-d401-4d16-c793-48aa58f95200",
        "colab": {
          "base_uri": "https://localhost:8080/",
          "height": 109
        }
      },
      "execution_count": null,
      "outputs": [
        {
          "output_type": "execute_result",
          "data": {
            "text/plain": [
              "\"quando ero piccolo m'innamoravo di tutto correvo dietro ai cani/ e da marzo a febbraio mio nonno vegliava/ sulla corrente di cavalli e di buoi/ sui fatti miei e sui fatti tuoi/ e al dio degli inglesi non credere mai/ e quando avevo duecento lune e forse qualcuna è di troppo/ rubai il primo cavallo e mi fecero uomo/ cambiai il mio nome in coda di lupo / cambiai il mio pony con un cavallo muto/ e al loro dio perdente non credere mai/ e fu nella notte della lunga stella con la coda/ che trovammo mio nonno crocifisso sulla chiesa/ crocifisso con forchette che si usano a cena/ era sporco e pulito di sangue e di crema/ e al loro dio goloso non credere mai/ e forse avevo diciott'anni e non puzzavo più di serpente/ possedevo una spranga un cappello e una fionda/ e una notte di gala con un sasso a punta/ uccisi uno smoking e glielo rubai/ e al dio della scala non credere mai/ poi tornammo in brianza per l'apertura della caccia al bisonte/ ci fecero l'esame dell'alito e delle urine/ ci spiegò il meccanismo un poeta andaluso / per la caccia al bisonte disse il numero è chiuso / e a un dio a lieto fine non credere mai/ ed ero già vecchio quando vicino a roma a little big horn/ capelli corti generale ci parlò all'università/ dei fratelli tutte blu che seppellirono le asce/ ma non fumammo con lui non era venuto in pace/ e a un dio fatti il culo non credere mai/ e adesso che ho bruciato venti figli sul mio letto di sposo/ che ho scaricato la mia rabbia in un teatro di posa/ che ho imparato a pescare con le bombe a mano/ che mi hanno scolpito in lacrime sull'arco di traiano/ con un cucchiaio di vetro scavo nella mia storia/ ma colpisco un po' a casaccio perché non ho più memoria/ e a un dio e a un dio/ e a un dio/ e a un dio senza fiato non credere mai\""
            ],
            "application/vnd.google.colaboratory.intrinsic+json": {
              "type": "string"
            }
          },
          "metadata": {},
          "execution_count": 20
        }
      ]
    },
    {
      "cell_type": "markdown",
      "metadata": {
        "id": "5b4QGLtGFlbH"
      },
      "source": [
        "Stopwords and Lemmatization\n",
        "* Lemmatization performed using 'spacy'. From Utils you can call the function 'lemmatization_stanza' that perform lemmatization using 'stanza'. Spacy and Stanza perform overall the same, both make some mistakes in the Italian language, but Spacy has the advantage of being computationally faster"
      ]
    },
    {
      "cell_type": "code",
      "execution_count": null,
      "metadata": {
        "id": "e0uarY6LFkxn"
      },
      "outputs": [],
      "source": [
        "#Remove stopwords\n",
        "df['processed_lyrics'] = [PREPROCESSING.remove_stopwords(song) for song in df.Lyrics]\n",
        "\n",
        "#Lemmatization (and remove extra spaces at the beginning and end of the strings)\n",
        "df['processed_lyrics']= [PREPROCESSING.lemmatization_spacy(song).strip() for song in progress_bar(df.processed_lyrics)]"
      ]
    },
    {
      "cell_type": "code",
      "execution_count": null,
      "metadata": {
        "id": "15d9rh4CJlb5"
      },
      "outputs": [],
      "source": [
        "#divide the songs and the and the pl_songs by verses\n",
        "df['verses'] = [song.split(\"/\") for song in df.Lyrics]\n",
        "df['processed_verses'] = [song.split(\"/\") for song in df.processed_lyrics]\n",
        "\n",
        "#remove '/' from lyrics' columns\n",
        "df['Lyrics']= [PREPROCESSING.delete_chars(song, \"/\") for song in df.Lyrics]\n",
        "df['processed_lyrics']= [PREPROCESSING.delete_chars(song, \"/\") for song in df.processed_lyrics]\n",
        "\n",
        "df.head()"
      ]
    },
    {
      "cell_type": "markdown",
      "source": [
        "Retrieve the POS for each verse."
      ],
      "metadata": {
        "id": "7kJFzg7NKisQ"
      }
    },
    {
      "cell_type": "code",
      "source": [
        "df['POS'] = [[PREPROCESSING.pos_tagging(verse.strip()) for verse in song] for song in progress_bar(df.verses)]"
      ],
      "metadata": {
        "id": "7opOoVQ4Khm-"
      },
      "execution_count": null,
      "outputs": []
    },
    {
      "cell_type": "markdown",
      "metadata": {
        "id": "bT7MhL-jLZG-"
      },
      "source": [
        "# BIBLE"
      ]
    },
    {
      "cell_type": "markdown",
      "metadata": {
        "id": "O7NhS3Z7LctI"
      },
      "source": [
        "import the data"
      ]
    },
    {
      "cell_type": "code",
      "execution_count": null,
      "metadata": {
        "id": "ALNNolGXLgvd"
      },
      "outputs": [],
      "source": [
        "with open(r'/content/drive/MyDrive/Colab Notebooks/Text Mining/Files/Bibbia.txt', 'r', encoding='latin-1') as file:\n",
        "    bible = file.read()"
      ]
    },
    {
      "cell_type": "markdown",
      "metadata": {
        "id": "riS0AbT8OpDF"
      },
      "source": [
        "### Text preprocessing:\n",
        "* lower the chars\n",
        "* divide the text in 'phrases'\n",
        "* remove outliers\n",
        "* remove special\\non-Ascii chars\n"
      ]
    },
    {
      "cell_type": "code",
      "execution_count": null,
      "metadata": {
        "id": "5n1M2y_KLoNy"
      },
      "outputs": [],
      "source": [
        "#lower all the letters\n",
        "bible = bible.lower()\n",
        "\n",
        "#divide the bible in verses ('versetti') which are defined by '[num]'\n",
        "biblic_verses = re.split(r'\\[\\d+]', bible)\n",
        "\n",
        "#remove empty strings\n",
        "biblic_verses = [verse.strip() for verse in biblic_verses if verse.strip()]\n",
        "\n",
        "biblic_verses[0:5]"
      ]
    },
    {
      "cell_type": "code",
      "execution_count": null,
      "metadata": {
        "id": "iuJlkGIuMcW-"
      },
      "outputs": [],
      "source": [
        "#since a biblic verse could be long, i further divide the verses in phrases\n",
        "\n",
        "biblic_phrases = []\n",
        "for verse in biblic_verses:\n",
        "    #i define a phrase as a part of text delimitated by the punctuation ',:;.\"\\n'\n",
        "    phrases = re.split(r'[,:;.\"\\n]+', verse)\n",
        "    #remove empty strings\n",
        "    phrases = [phrase.strip() for phrase in phrases if phrase.strip()]\n",
        "    biblic_phrases.append(phrases)\n",
        "\n",
        "#'biblic phrases' is a list of lists of string -> trasform it in a list of strings\n",
        "biblic_phrases = [string_ for list_ in biblic_phrases for string_ in list_]\n",
        "\n",
        "biblic_phrases[0:5]"
      ]
    },
    {
      "cell_type": "markdown",
      "metadata": {
        "id": "-ov7kue_OfNT"
      },
      "source": [
        "Check the len of all the phrases, remove the longer ones"
      ]
    },
    {
      "cell_type": "code",
      "execution_count": null,
      "metadata": {
        "id": "MS_WMTHeORRu"
      },
      "outputs": [],
      "source": [
        "len_ = [len(phrase.split()) for phrase in biblic_phrases]\n",
        "\n",
        "print(\"before remove:\")\n",
        "print(\"number of phrases:\", len(len_))\n",
        "print(\"shortes phrase:\", min(len_))\n",
        "print(\"longest phrase:\", max(len_))\n",
        "\n",
        "#remove the phrases longer than 40 words and shorter than 2 words:\n",
        "biblic_phrases = [phrase for phrase in biblic_phrases if len(phrase.split()) < 41 and len(phrase.split()) > 4]\n",
        "\n",
        "len_ = [len(phrase.split()) for phrase in biblic_phrases]\n",
        "\n",
        "print(\"after remove:\")\n",
        "print(\"number of phrases:\", len(len_))\n",
        "print(\"shortest phrase:\", min(len_))\n",
        "print(\"longest phrase:\", max(len_))"
      ]
    },
    {
      "cell_type": "code",
      "execution_count": null,
      "metadata": {
        "id": "oCGthutRO-2c"
      },
      "outputs": [],
      "source": [
        "plt.plot(len_)\n",
        "plt.title(\"phrases len\")\n",
        "plt.show()"
      ]
    },
    {
      "cell_type": "markdown",
      "metadata": {
        "id": "GgY80NEnLnq7"
      },
      "source": [
        "remove special\\non ascii chars"
      ]
    },
    {
      "cell_type": "code",
      "execution_count": null,
      "metadata": {
        "id": "0iuyOCbePHev"
      },
      "outputs": [],
      "source": [
        "#Remove Punctuation\n",
        "punctuation_pattern = \"[!\\\"#$%&()*+,-.:;<=>?@[\\\\]^_`{|}~]\"\n",
        "biblic_phrases = [PREPROCESSING.remove_punctuation(phrase, punctuation_pattern) for phrase in biblic_phrases]\n",
        "\n",
        "#Remove Extra spaces\n",
        "biblic_phrases =  [re.sub(r'\\s+', ' ', phrase) for phrase in biblic_phrases]\n",
        "\n",
        "#Trasform non italian characters: ż -> z, ñ -> n, for example.\n",
        "accepted_accents = ['à', 'è', 'é', 'ì', 'ò', 'ù']\n",
        "biblic_phrases = [PREPROCESSING.fix_accents(phrase, accepted_accents) for phrase in biblic_phrases]\n",
        "\n",
        "#Delete all the characters that does not match the alphabet (like numbers and symbols)\n",
        "\n",
        "#check the characters that i have in the lyrics\n",
        "unique_chars = set(' '.join(biblic_phrases))\n",
        "\n",
        "#store the alphabet (+ space and accents)\n",
        "alphabet = list(string.ascii_lowercase) + [\" \", 'à', 'è', 'é', 'ì', 'ò', 'ù', '/', \"'\"]\n",
        "\n",
        "#all the characters in the lyrics\n",
        "del_char = [char for char in unique_chars if char not in alphabet]\n",
        "\n",
        "#remove char not in alphabet:\n",
        "biblic_phrases = [PREPROCESSING.delete_chars(phrase, del_char) for phrase in biblic_phrases]"
      ]
    },
    {
      "cell_type": "markdown",
      "metadata": {
        "id": "tDuqgnP6PiL_"
      },
      "source": [
        "stopwords and lemmatization"
      ]
    },
    {
      "cell_type": "code",
      "execution_count": null,
      "metadata": {
        "id": "EwLP5exwPmEc"
      },
      "outputs": [],
      "source": [
        "# #Remove stopwords\n",
        "# lem_phrases = [PREPROCESSING.remove_stopwords(phrase) for phrase in biblic_phrases]\n",
        "\n",
        "# #Lemmatization --> i use spacy which is less precise for the italian language but faster than stanza\n",
        "# lem_phrases = [PREPROCESSING.lemmatization_spacy(phrase) for phrase in progress_bar(lem_phrases)]"
      ]
    },
    {
      "cell_type": "code",
      "source": [
        "POS_bible = [PREPROCESSING.pos_tagging(verse.strip()) for verse in progress_bar(biblic_phrases)]"
      ],
      "metadata": {
        "id": "TgSpfdzYQjxz"
      },
      "execution_count": null,
      "outputs": []
    },
    {
      "cell_type": "code",
      "execution_count": null,
      "metadata": {
        "id": "gRV5-HVdQDEw"
      },
      "outputs": [],
      "source": [
        "bible_df = pd.DataFrame({'POS': POS_bible, 'verses': biblic_phrases})"
      ]
    },
    {
      "cell_type": "markdown",
      "source": [
        "Retrieve the POS"
      ],
      "metadata": {
        "id": "RYac2X47K6mH"
      }
    },
    {
      "cell_type": "markdown",
      "source": [
        "# DIVINA COMMEDIA"
      ],
      "metadata": {
        "id": "4Ywf6Gk26hap"
      }
    },
    {
      "cell_type": "code",
      "source": [
        "path = '/content/drive/MyDrive/Colab Notebooks/Text Mining/Files/Divina_Commedia.txt'\n",
        "\n",
        "with open(path, 'r', encoding='utf-8') as file:\n",
        "    text = file.read()"
      ],
      "metadata": {
        "id": "QsTtFNqn6jTG"
      },
      "execution_count": null,
      "outputs": []
    },
    {
      "cell_type": "code",
      "source": [
        "#create the list\n",
        "versi = text.split(\"\\n\")\n",
        "print(\"# divina commedia verses: 14233, actual number or verses\", len(versi))\n",
        "#remove empty strings\n",
        "versi = [verso for verso in versi if len(verso) != 0]\n",
        "print(\"# divina commedia verses: 14233, actual number or verses\", len(versi))"
      ],
      "metadata": {
        "id": "Vdl1S4gi6pPO"
      },
      "execution_count": null,
      "outputs": []
    },
    {
      "cell_type": "code",
      "source": [
        "#remove part of speech (comments present in the txt file)\n",
        "\n",
        "len_versi = [len(verso) for verso in versi]\n",
        "\n",
        "outlier = np.mean(len_versi) - np.std(len_versi)\n",
        "OUTLIER = np.mean(len_versi) + np.std(len_versi)\n",
        "plt.plot(len_versi)\n",
        "plt.axhline(y=OUTLIER, color='r', linestyle='--')\n",
        "plt.axhline(y=outlier, color='r', linestyle='--')"
      ],
      "metadata": {
        "id": "B2dRN97U6uj5"
      },
      "execution_count": null,
      "outputs": []
    },
    {
      "cell_type": "code",
      "source": [
        "versi = [verso for verso in versi if len(verso) > outlier and len(verso) < OUTLIER]\n",
        "print(\"# divina commedia verses: 14233, actual number or verses\", len(versi))\n",
        "\n",
        "#remove the last 4 verses (txt file header)\n",
        "versi = versi[:-4]\n",
        "print(\"# divina commedia verses: 14233, actual number or verses\", len(versi))"
      ],
      "metadata": {
        "id": "B-Yw06vW6xIn"
      },
      "execution_count": null,
      "outputs": []
    },
    {
      "cell_type": "code",
      "source": [
        "#the last triplet of each canto has an additional verse, we have to taken it into account to generate the dataset\n",
        "k = 0\n",
        "canti = []\n",
        "for i in range(3, len(versi)):\n",
        "  words = versi[i].split()\n",
        "  if words[-1] == '3':\n",
        "    canti.append(versi[k:i-2])\n",
        "    k = i-2\n",
        "\n",
        "#remove the remaining part of text (comments between the lyrics)\n",
        "canti = [[verso for verso in versi if verso.split()[0] != 'Canto' ] for versi in canti]"
      ],
      "metadata": {
        "id": "xALIwOgWZNxX"
      },
      "execution_count": null,
      "outputs": []
    },
    {
      "cell_type": "code",
      "source": [
        "#remove punctuation and numbers\n",
        "char_to_remove = '-\"!?.,:;1234567890'\n",
        "canti = [[PREPROCESSING.delete_chars(verso, char_to_remove).strip() for verso in versi] for versi in canti]"
      ],
      "metadata": {
        "id": "I3lnazH5i1ez"
      },
      "execution_count": null,
      "outputs": []
    },
    {
      "cell_type": "code",
      "source": [
        "#extract the last word from each verse of each canto\n",
        "rhymes_list = [[verso.split()[-1] for verso in versi] for versi in canti]\n",
        "\n",
        "#retrieve the index of each rhyme. The rhymes in Divina Commedia follow the schema 'ABA BCB CDC DED..'\n",
        "#the following list encode this rapresentation: 'ABA BCB DCD EDE..' -> '121 232 343 454..'\n",
        "rhymes_idx = [PREPROCESSING.rhymes_progression_idx(int((len(canto)-1)/3)) for canto in canti]"
      ],
      "metadata": {
        "id": "0-pbYa1o6yFi"
      },
      "execution_count": null,
      "outputs": []
    },
    {
      "cell_type": "code",
      "source": [
        "#check that we have the same number of words and idx for each canto\n",
        "for i in range(len(rhymes_list)):\n",
        "  if len(rhymes_list[i])-len(rhymes_idx[i]) != 0:\n",
        "    print(i)\n",
        "else: print(\"check passed\")"
      ],
      "metadata": {
        "id": "ajOU3TCQsrt6"
      },
      "execution_count": null,
      "outputs": []
    },
    {
      "cell_type": "markdown",
      "metadata": {
        "id": "8XS4pKesGMP7"
      },
      "source": [
        "# Store the files"
      ]
    },
    {
      "cell_type": "code",
      "execution_count": null,
      "metadata": {
        "id": "fhRRc_BMG0nc"
      },
      "outputs": [],
      "source": [
        "files_path = '/content/drive/MyDrive/Colab Notebooks/Text Mining/Files/'\n",
        "lyrics_file = 'lyrics_preprocessing.h5'\n",
        "bible_file = 'bible_preprocessing.h5'\n",
        "\n",
        "df.to_hdf(files_path + lyrics_file, key='data', mode='w')\n",
        "\n",
        "bible_df.to_hdf(files_path + bible_file, key='data', mode='w')"
      ]
    },
    {
      "cell_type": "code",
      "source": [
        "#divina commedia lists\n",
        "files_path = '/content/drive/MyDrive/Colab Notebooks/Text Mining/Files/'\n",
        "with open(files_path+'rhymes_list.pickle', 'wb') as f:\n",
        "    pickle.dump(rhymes_list, f)\n",
        "with open(files_path+'rhymes_idx.pickle', 'wb') as f:\n",
        "    pickle.dump(rhymes_idx, f)"
      ],
      "metadata": {
        "id": "R2zOp0Y9hNTt"
      },
      "execution_count": null,
      "outputs": []
    },
    {
      "cell_type": "markdown",
      "metadata": {
        "id": "MWoWXdSJG1lc"
      },
      "source": [
        "remove the preprocessing.py file from the directory"
      ]
    },
    {
      "cell_type": "code",
      "execution_count": null,
      "metadata": {
        "id": "YxqRsyfAocxN"
      },
      "outputs": [],
      "source": [
        "!rm /content/preprocessing.py"
      ]
    }
  ],
  "metadata": {
    "colab": {
      "provenance": [],
      "authorship_tag": "ABX9TyPg9kAhcp8a7AK10WB8a1CF",
      "include_colab_link": true
    },
    "kernelspec": {
      "display_name": "Python 3",
      "name": "python3"
    },
    "language_info": {
      "name": "python"
    }
  },
  "nbformat": 4,
  "nbformat_minor": 0
}