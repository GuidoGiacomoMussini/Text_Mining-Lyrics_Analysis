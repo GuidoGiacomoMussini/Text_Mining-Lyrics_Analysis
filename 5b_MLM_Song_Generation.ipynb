{
  "nbformat": 4,
  "nbformat_minor": 0,
  "metadata": {
    "colab": {
      "provenance": [],
      "authorship_tag": "ABX9TyPg7/J4jSK3TPJyEz+vB/NP",
      "include_colab_link": true
    },
    "kernelspec": {
      "name": "python3",
      "display_name": "Python 3"
    },
    "language_info": {
      "name": "python"
    }
  },
  "cells": [
    {
      "cell_type": "markdown",
      "metadata": {
        "id": "view-in-github",
        "colab_type": "text"
      },
      "source": [
        "<a href=\"https://colab.research.google.com/github/GuidoGiacomoMussini/Text_Mining-Lyrics_Analysis/blob/main/5b_MLM_Song_Generation.ipynb\" target=\"_parent\"><img src=\"https://colab.research.google.com/assets/colab-badge.svg\" alt=\"Open In Colab\"/></a>"
      ]
    },
    {
      "cell_type": "code",
      "source": [
        "from google.colab import drive\n",
        "import pandas as pd\n",
        "import numpy as np\n",
        "import torch\n",
        "import random\n",
        "from tqdm import tqdm as progress_bar\n",
        "from transformers import BertTokenizer, BertForMaskedLM\n",
        "from tensorflow.keras.models import load_model\n",
        "\n",
        "drive.mount('/content/drive')"
      ],
      "metadata": {
        "colab": {
          "base_uri": "https://localhost:8080/"
        },
        "id": "IG5nNimoVES5",
        "outputId": "b9bf01b9-b454-4ae3-afee-f47427f7bea7"
      },
      "execution_count": 29,
      "outputs": [
        {
          "output_type": "stream",
          "name": "stdout",
          "text": [
            "Drive already mounted at /content/drive; to attempt to forcibly remount, call drive.mount(\"/content/drive\", force_remount=True).\n"
          ]
        }
      ]
    },
    {
      "cell_type": "code",
      "source": [
        "!cp /content/drive/MyDrive/Colab\\ Notebooks/Text\\ Mining/Utils/MLM_Utils.py /content\n",
        "import MLM_Utils as MLM"
      ],
      "metadata": {
        "id": "2yzOTacqsfYg"
      },
      "execution_count": 30,
      "outputs": []
    },
    {
      "cell_type": "code",
      "source": [
        "df =  pd.read_hdf(r'/content/drive/MyDrive/Colab Notebooks/Text Mining/Files/lyrics_topic_detection.h5', key='data')\n",
        "\n",
        "df.head(2)"
      ],
      "metadata": {
        "colab": {
          "base_uri": "https://localhost:8080/",
          "height": 181
        },
        "id": "Zw1c2xDrd85S",
        "outputId": "1801d0d0-1345-4987-8882-9786a24d3673"
      },
      "execution_count": 31,
      "outputs": [
        {
          "output_type": "execute_result",
          "data": {
            "text/plain": [
              "              Author               Title  \\\n",
              "0  Fabrizio De André  La Guerra Di Piero   \n",
              "1  Fabrizio De André          Don Raffaè   \n",
              "\n",
              "                                              Lyrics  \\\n",
              "0  dormi sepolto in un campo di grano non è la ro...   \n",
              "1  io mi chiamo pasquale cafiero e son brigadiero...   \n",
              "\n",
              "                                              verses  \\\n",
              "0  [dormi sepolto in un campo di grano,  non è la...   \n",
              "1  [io mi chiamo pasquale cafiero,  e son brigadi...   \n",
              "\n",
              "                                    processed_lyrics  \\\n",
              "0  dormire seppellire campo Grano rosa Tulipano f...   \n",
              "1  chere pasquale Cafiero son brigadiero carcere ...   \n",
              "\n",
              "                                    processed_verses  \\\n",
              "0  [dormire seppellire campo Grano,  rosa Tulipan...   \n",
              "1  [chere pasquale Cafiero,  son brigadiero carce...   \n",
              "\n",
              "                                                 POS  \\\n",
              "0  [[VERB, VERB, ADP, DET, NOUN, ADP, NOUN], [ADV...   \n",
              "1  [[PRON, PRON, VERB, ADJ, ADJ], [CCONJ, AUX, NO...   \n",
              "\n",
              "                                       important_POS  \\\n",
              "0  [campo, fan, veglia, ombra, sponda, luccio, ca...   \n",
              "1  [brigadiero, carcere, cafiero, catenaccio, ser...   \n",
              "\n",
              "                                        common_words  \\\n",
              "0  [tempo, terra, campo, fan, veglia, ombra, inve...   \n",
              "1  [cafè, carcere, ricetta, cumpagno, fortuna, uo...   \n",
              "\n",
              "                                    topic_similarity   topic  \n",
              "0  {'guerra': 0.178, 'morte': 0.173, 'dio': 0.168...  guerra  \n",
              "1  {'dio': 0.182, 'politica': 0.176, 'morte': 0.1...     dio  "
            ],
            "text/html": [
              "\n",
              "  <div id=\"df-94f5c319-716b-453e-bc1e-6903507fe687\" class=\"colab-df-container\">\n",
              "    <div>\n",
              "<style scoped>\n",
              "    .dataframe tbody tr th:only-of-type {\n",
              "        vertical-align: middle;\n",
              "    }\n",
              "\n",
              "    .dataframe tbody tr th {\n",
              "        vertical-align: top;\n",
              "    }\n",
              "\n",
              "    .dataframe thead th {\n",
              "        text-align: right;\n",
              "    }\n",
              "</style>\n",
              "<table border=\"1\" class=\"dataframe\">\n",
              "  <thead>\n",
              "    <tr style=\"text-align: right;\">\n",
              "      <th></th>\n",
              "      <th>Author</th>\n",
              "      <th>Title</th>\n",
              "      <th>Lyrics</th>\n",
              "      <th>verses</th>\n",
              "      <th>processed_lyrics</th>\n",
              "      <th>processed_verses</th>\n",
              "      <th>POS</th>\n",
              "      <th>important_POS</th>\n",
              "      <th>common_words</th>\n",
              "      <th>topic_similarity</th>\n",
              "      <th>topic</th>\n",
              "    </tr>\n",
              "  </thead>\n",
              "  <tbody>\n",
              "    <tr>\n",
              "      <th>0</th>\n",
              "      <td>Fabrizio De André</td>\n",
              "      <td>La Guerra Di Piero</td>\n",
              "      <td>dormi sepolto in un campo di grano non è la ro...</td>\n",
              "      <td>[dormi sepolto in un campo di grano,  non è la...</td>\n",
              "      <td>dormire seppellire campo Grano rosa Tulipano f...</td>\n",
              "      <td>[dormire seppellire campo Grano,  rosa Tulipan...</td>\n",
              "      <td>[[VERB, VERB, ADP, DET, NOUN, ADP, NOUN], [ADV...</td>\n",
              "      <td>[campo, fan, veglia, ombra, sponda, luccio, ca...</td>\n",
              "      <td>[tempo, terra, campo, fan, veglia, ombra, inve...</td>\n",
              "      <td>{'guerra': 0.178, 'morte': 0.173, 'dio': 0.168...</td>\n",
              "      <td>guerra</td>\n",
              "    </tr>\n",
              "    <tr>\n",
              "      <th>1</th>\n",
              "      <td>Fabrizio De André</td>\n",
              "      <td>Don Raffaè</td>\n",
              "      <td>io mi chiamo pasquale cafiero e son brigadiero...</td>\n",
              "      <td>[io mi chiamo pasquale cafiero,  e son brigadi...</td>\n",
              "      <td>chere pasquale Cafiero son brigadiero carcere ...</td>\n",
              "      <td>[chere pasquale Cafiero,  son brigadiero carce...</td>\n",
              "      <td>[[PRON, PRON, VERB, ADJ, ADJ], [CCONJ, AUX, NO...</td>\n",
              "      <td>[brigadiero, carcere, cafiero, catenaccio, ser...</td>\n",
              "      <td>[cafè, carcere, ricetta, cumpagno, fortuna, uo...</td>\n",
              "      <td>{'dio': 0.182, 'politica': 0.176, 'morte': 0.1...</td>\n",
              "      <td>dio</td>\n",
              "    </tr>\n",
              "  </tbody>\n",
              "</table>\n",
              "</div>\n",
              "    <div class=\"colab-df-buttons\">\n",
              "\n",
              "  <div class=\"colab-df-container\">\n",
              "    <button class=\"colab-df-convert\" onclick=\"convertToInteractive('df-94f5c319-716b-453e-bc1e-6903507fe687')\"\n",
              "            title=\"Convert this dataframe to an interactive table.\"\n",
              "            style=\"display:none;\">\n",
              "\n",
              "  <svg xmlns=\"http://www.w3.org/2000/svg\" height=\"24px\" viewBox=\"0 -960 960 960\">\n",
              "    <path d=\"M120-120v-720h720v720H120Zm60-500h600v-160H180v160Zm220 220h160v-160H400v160Zm0 220h160v-160H400v160ZM180-400h160v-160H180v160Zm440 0h160v-160H620v160ZM180-180h160v-160H180v160Zm440 0h160v-160H620v160Z\"/>\n",
              "  </svg>\n",
              "    </button>\n",
              "\n",
              "  <style>\n",
              "    .colab-df-container {\n",
              "      display:flex;\n",
              "      gap: 12px;\n",
              "    }\n",
              "\n",
              "    .colab-df-convert {\n",
              "      background-color: #E8F0FE;\n",
              "      border: none;\n",
              "      border-radius: 50%;\n",
              "      cursor: pointer;\n",
              "      display: none;\n",
              "      fill: #1967D2;\n",
              "      height: 32px;\n",
              "      padding: 0 0 0 0;\n",
              "      width: 32px;\n",
              "    }\n",
              "\n",
              "    .colab-df-convert:hover {\n",
              "      background-color: #E2EBFA;\n",
              "      box-shadow: 0px 1px 2px rgba(60, 64, 67, 0.3), 0px 1px 3px 1px rgba(60, 64, 67, 0.15);\n",
              "      fill: #174EA6;\n",
              "    }\n",
              "\n",
              "    .colab-df-buttons div {\n",
              "      margin-bottom: 4px;\n",
              "    }\n",
              "\n",
              "    [theme=dark] .colab-df-convert {\n",
              "      background-color: #3B4455;\n",
              "      fill: #D2E3FC;\n",
              "    }\n",
              "\n",
              "    [theme=dark] .colab-df-convert:hover {\n",
              "      background-color: #434B5C;\n",
              "      box-shadow: 0px 1px 3px 1px rgba(0, 0, 0, 0.15);\n",
              "      filter: drop-shadow(0px 1px 2px rgba(0, 0, 0, 0.3));\n",
              "      fill: #FFFFFF;\n",
              "    }\n",
              "  </style>\n",
              "\n",
              "    <script>\n",
              "      const buttonEl =\n",
              "        document.querySelector('#df-94f5c319-716b-453e-bc1e-6903507fe687 button.colab-df-convert');\n",
              "      buttonEl.style.display =\n",
              "        google.colab.kernel.accessAllowed ? 'block' : 'none';\n",
              "\n",
              "      async function convertToInteractive(key) {\n",
              "        const element = document.querySelector('#df-94f5c319-716b-453e-bc1e-6903507fe687');\n",
              "        const dataTable =\n",
              "          await google.colab.kernel.invokeFunction('convertToInteractive',\n",
              "                                                    [key], {});\n",
              "        if (!dataTable) return;\n",
              "\n",
              "        const docLinkHtml = 'Like what you see? Visit the ' +\n",
              "          '<a target=\"_blank\" href=https://colab.research.google.com/notebooks/data_table.ipynb>data table notebook</a>'\n",
              "          + ' to learn more about interactive tables.';\n",
              "        element.innerHTML = '';\n",
              "        dataTable['output_type'] = 'display_data';\n",
              "        await google.colab.output.renderOutput(dataTable, element);\n",
              "        const docLink = document.createElement('div');\n",
              "        docLink.innerHTML = docLinkHtml;\n",
              "        element.appendChild(docLink);\n",
              "      }\n",
              "    </script>\n",
              "  </div>\n",
              "\n",
              "\n",
              "<div id=\"df-118e47c3-266d-4d76-b715-fb8cd70d88dd\">\n",
              "  <button class=\"colab-df-quickchart\" onclick=\"quickchart('df-118e47c3-266d-4d76-b715-fb8cd70d88dd')\"\n",
              "            title=\"Suggest charts\"\n",
              "            style=\"display:none;\">\n",
              "\n",
              "<svg xmlns=\"http://www.w3.org/2000/svg\" height=\"24px\"viewBox=\"0 0 24 24\"\n",
              "     width=\"24px\">\n",
              "    <g>\n",
              "        <path d=\"M19 3H5c-1.1 0-2 .9-2 2v14c0 1.1.9 2 2 2h14c1.1 0 2-.9 2-2V5c0-1.1-.9-2-2-2zM9 17H7v-7h2v7zm4 0h-2V7h2v10zm4 0h-2v-4h2v4z\"/>\n",
              "    </g>\n",
              "</svg>\n",
              "  </button>\n",
              "\n",
              "<style>\n",
              "  .colab-df-quickchart {\n",
              "      --bg-color: #E8F0FE;\n",
              "      --fill-color: #1967D2;\n",
              "      --hover-bg-color: #E2EBFA;\n",
              "      --hover-fill-color: #174EA6;\n",
              "      --disabled-fill-color: #AAA;\n",
              "      --disabled-bg-color: #DDD;\n",
              "  }\n",
              "\n",
              "  [theme=dark] .colab-df-quickchart {\n",
              "      --bg-color: #3B4455;\n",
              "      --fill-color: #D2E3FC;\n",
              "      --hover-bg-color: #434B5C;\n",
              "      --hover-fill-color: #FFFFFF;\n",
              "      --disabled-bg-color: #3B4455;\n",
              "      --disabled-fill-color: #666;\n",
              "  }\n",
              "\n",
              "  .colab-df-quickchart {\n",
              "    background-color: var(--bg-color);\n",
              "    border: none;\n",
              "    border-radius: 50%;\n",
              "    cursor: pointer;\n",
              "    display: none;\n",
              "    fill: var(--fill-color);\n",
              "    height: 32px;\n",
              "    padding: 0;\n",
              "    width: 32px;\n",
              "  }\n",
              "\n",
              "  .colab-df-quickchart:hover {\n",
              "    background-color: var(--hover-bg-color);\n",
              "    box-shadow: 0 1px 2px rgba(60, 64, 67, 0.3), 0 1px 3px 1px rgba(60, 64, 67, 0.15);\n",
              "    fill: var(--button-hover-fill-color);\n",
              "  }\n",
              "\n",
              "  .colab-df-quickchart-complete:disabled,\n",
              "  .colab-df-quickchart-complete:disabled:hover {\n",
              "    background-color: var(--disabled-bg-color);\n",
              "    fill: var(--disabled-fill-color);\n",
              "    box-shadow: none;\n",
              "  }\n",
              "\n",
              "  .colab-df-spinner {\n",
              "    border: 2px solid var(--fill-color);\n",
              "    border-color: transparent;\n",
              "    border-bottom-color: var(--fill-color);\n",
              "    animation:\n",
              "      spin 1s steps(1) infinite;\n",
              "  }\n",
              "\n",
              "  @keyframes spin {\n",
              "    0% {\n",
              "      border-color: transparent;\n",
              "      border-bottom-color: var(--fill-color);\n",
              "      border-left-color: var(--fill-color);\n",
              "    }\n",
              "    20% {\n",
              "      border-color: transparent;\n",
              "      border-left-color: var(--fill-color);\n",
              "      border-top-color: var(--fill-color);\n",
              "    }\n",
              "    30% {\n",
              "      border-color: transparent;\n",
              "      border-left-color: var(--fill-color);\n",
              "      border-top-color: var(--fill-color);\n",
              "      border-right-color: var(--fill-color);\n",
              "    }\n",
              "    40% {\n",
              "      border-color: transparent;\n",
              "      border-right-color: var(--fill-color);\n",
              "      border-top-color: var(--fill-color);\n",
              "    }\n",
              "    60% {\n",
              "      border-color: transparent;\n",
              "      border-right-color: var(--fill-color);\n",
              "    }\n",
              "    80% {\n",
              "      border-color: transparent;\n",
              "      border-right-color: var(--fill-color);\n",
              "      border-bottom-color: var(--fill-color);\n",
              "    }\n",
              "    90% {\n",
              "      border-color: transparent;\n",
              "      border-bottom-color: var(--fill-color);\n",
              "    }\n",
              "  }\n",
              "</style>\n",
              "\n",
              "  <script>\n",
              "    async function quickchart(key) {\n",
              "      const quickchartButtonEl =\n",
              "        document.querySelector('#' + key + ' button');\n",
              "      quickchartButtonEl.disabled = true;  // To prevent multiple clicks.\n",
              "      quickchartButtonEl.classList.add('colab-df-spinner');\n",
              "      try {\n",
              "        const charts = await google.colab.kernel.invokeFunction(\n",
              "            'suggestCharts', [key], {});\n",
              "      } catch (error) {\n",
              "        console.error('Error during call to suggestCharts:', error);\n",
              "      }\n",
              "      quickchartButtonEl.classList.remove('colab-df-spinner');\n",
              "      quickchartButtonEl.classList.add('colab-df-quickchart-complete');\n",
              "    }\n",
              "    (() => {\n",
              "      let quickchartButtonEl =\n",
              "        document.querySelector('#df-118e47c3-266d-4d76-b715-fb8cd70d88dd button');\n",
              "      quickchartButtonEl.style.display =\n",
              "        google.colab.kernel.accessAllowed ? 'block' : 'none';\n",
              "    })();\n",
              "  </script>\n",
              "</div>\n",
              "    </div>\n",
              "  </div>\n"
            ]
          },
          "metadata": {},
          "execution_count": 31
        }
      ]
    },
    {
      "cell_type": "code",
      "source": [
        "#Import BERT\n",
        "bert = \"dbmdz/bert-base-italian-xxl-cased\"\n",
        "tokenizer = BertTokenizer.from_pretrained(bert)\n",
        "\n",
        "#Upload the models\n",
        "BERT_Model_v= BertForMaskedLM.from_pretrained(bert, return_dict=True)\n",
        "model_state_dict_v = torch.load('/content/drive/MyDrive/Colab Notebooks/Text Mining/Models/De_Andre_Model.pth', map_location=torch.device('cpu'))\n",
        "BERT_Model_v.load_state_dict(model_state_dict_v)"
      ],
      "metadata": {
        "id": "0vK_mjLFVCUQ",
        "colab": {
          "base_uri": "https://localhost:8080/"
        },
        "outputId": "36e70064-1877-4c54-e42b-bd96c1e0d5ae"
      },
      "execution_count": 32,
      "outputs": [
        {
          "output_type": "stream",
          "name": "stderr",
          "text": [
            "Some weights of the model checkpoint at dbmdz/bert-base-italian-xxl-cased were not used when initializing BertForMaskedLM: ['bert.pooler.dense.bias', 'cls.seq_relationship.bias', 'bert.pooler.dense.weight', 'cls.seq_relationship.weight']\n",
            "- This IS expected if you are initializing BertForMaskedLM from the checkpoint of a model trained on another task or with another architecture (e.g. initializing a BertForSequenceClassification model from a BertForPreTraining model).\n",
            "- This IS NOT expected if you are initializing BertForMaskedLM from the checkpoint of a model that you expect to be exactly identical (initializing a BertForSequenceClassification model from a BertForSequenceClassification model).\n"
          ]
        },
        {
          "output_type": "execute_result",
          "data": {
            "text/plain": [
              "<All keys matched successfully>"
            ]
          },
          "metadata": {},
          "execution_count": 32
        }
      ]
    },
    {
      "cell_type": "code",
      "source": [
        "# Rhyme model\n",
        "rhyme_model = load_model('/content/drive/MyDrive/Colab Notebooks/Text Mining/Models/Rhyme_detector')"
      ],
      "metadata": {
        "id": "S4c4Wkupv4Qn"
      },
      "execution_count": 33,
      "outputs": []
    },
    {
      "cell_type": "code",
      "source": [
        "#filter by an author and select a song\n",
        "df = df[df.Author == 'Giorgio Gaber'].reset_index(drop=True)\n",
        "verses = df.verses[13]\n",
        "verses"
      ],
      "metadata": {
        "id": "w3p8LfgYeC7W",
        "colab": {
          "base_uri": "https://localhost:8080/"
        },
        "outputId": "8a2f1d76-c454-410b-997c-f665b6d6d9ad"
      },
      "execution_count": 34,
      "outputs": [
        {
          "output_type": "execute_result",
          "data": {
            "text/plain": [
              "['da solo',\n",
              " \" lungo l'autostrada\",\n",
              " ' alle prime luci del mattino',\n",
              " ' a volte spengo anche la radio',\n",
              " ' e lascio il mio cuore incollato al finestrino',\n",
              " ' lo so del mondo e anche del resto',\n",
              " ' lo so che tutto va in rovina',\n",
              " ' ma di mattina',\n",
              " ' quando la gente dorme',\n",
              " ' col suo normale malumore',\n",
              " ' mi può bastare un niente',\n",
              " ' forse un piccolo bagliore',\n",
              " \" un'aria già vissuta\",\n",
              " ' un paesaggio o che ne so',\n",
              " ' e sto bene',\n",
              " ' io sto bene come uno quando sogna',\n",
              " ' non lo so se mi conviene',\n",
              " ' ma sto bene che vergogna',\n",
              " ' io sto bene',\n",
              " ' proprio ora proprio qui',\n",
              " ' non è mica colpa mia',\n",
              " ' se mi capita così',\n",
              " \" è come un'illogica allegria\",\n",
              " ' di cui non so il motivo',\n",
              " ' non so che cosa sia',\n",
              " ' è come se improvvisamente',\n",
              " ' mi fossi preso il diritto',\n",
              " ' di vivere il presente',\n",
              " ' io sto bene',\n",
              " ' questa illogica allegria',\n",
              " ' proprio ora proprio qui',\n",
              " ' da solo',\n",
              " \" lungo l'autostrada\",\n",
              " ' alle prime luci del mattino']"
            ]
          },
          "metadata": {},
          "execution_count": 34
        }
      ]
    },
    {
      "cell_type": "code",
      "source": [
        "#Simple model\n",
        "s = []\n",
        "for verse in verses:\n",
        "  v = MLM.modify_verse(BERT_Model_v, tokenizer, verse, 100) #100 indicates the number of possible replacement the model will consider\n",
        "  s.append(v)\n",
        "  print(v)"
      ],
      "metadata": {
        "id": "caWPXn4AjPcb",
        "colab": {
          "base_uri": "https://localhost:8080/"
        },
        "outputId": "823d9147-027c-4abc-e099-c999cff51215"
      },
      "execution_count": 35,
      "outputs": [
        {
          "output_type": "stream",
          "name": "stdout",
          "text": [
            "da solo\n",
            "lungo l\n",
            "alle prime ore del mattino\n",
            "a volte suona ancora la chitarra\n",
            "e vedo il mio cuore venire dal pianto\n",
            "ne va del mondo e poi del mondo\n",
            "lo sai che si muore in battaglia\n",
            "ma di dolore\n",
            "mentre la regina piange\n",
            "del tuo profondo dolore\n",
            "ti dovesse basta un niente\n",
            "solo un lieve dolore\n",
            "l mai visto\n",
            "un bacio ma che ne so\n",
            "e speriamo bene\n",
            "io vedo solo tranne lei che ride\n",
            "non lo so se ti servirà\n",
            "ma sappiamo bene che quest\n",
            "io so dove\n",
            "proprio lì proprio lì\n",
            "non è più colpa mia\n",
            "se ti risponde così\n",
            "fu per tanta invidia\n",
            "di cui non so il nome\n",
            "non so che cosa sia\n",
            "è come se rimanda\n",
            "mi fossi presa il potere\n",
            "per ingannare il sole\n",
            "io so dove\n",
            "una nuova cattedrale\n",
            "proprio lì proprio lì\n",
            "da solo\n",
            "lungo l\n",
            "alle prime ore del mattino\n"
          ]
        }
      ]
    },
    {
      "cell_type": "code",
      "source": [
        "#complex model\n",
        "res = MLM.modify_song(verses, BERT_Model_v, tokenizer, 100, rhyme_model, 3)"
      ],
      "metadata": {
        "id": "bJtUxNZNyRYC",
        "colab": {
          "base_uri": "https://localhost:8080/"
        },
        "outputId": "b1f656d4-8f2a-4b48-bcf3-90f771ab7536"
      },
      "execution_count": 36,
      "outputs": [
        {
          "output_type": "stream",
          "name": "stdout",
          "text": [
            "deriving the rhyme schema\n",
            "---------------\n",
            "modify verse by verse the song:\n",
            "\n",
            "da solo\n",
            "lungo l\n",
            "alle prime ore del mattino\n",
            "a volte suona ancora la batteria\n",
            "e vedo il mio cuore venire dal pianto\n",
            "ne va del mondo e poi del mondo\n",
            "lo sai che si muore in treno\n",
            "ma di m\n",
            "mentre la regina parla\n",
            "del tuo profondo dolore\n",
            "ti dovesse basta un niente\n",
            "solo un lieve dolore\n",
            "l mai sa\n",
            "un bacio ma che ne so\n",
            "e speriamo almeno\n",
            "io vedo solo tranne lei che ride\n",
            "non lo so se ti servirà\n",
            "ma sappiamo bene che pu\n",
            "io so dove\n",
            "proprio lì proprio così\n",
            "non è più colpa mio\n",
            "se ti risponde così\n",
            "fu per tanta gio\n",
            "di cui non so il nome\n",
            "non so che cosa è\n",
            "è come se rimanda\n",
            "mi fossi presa il potere\n",
            "per ingannare il sole\n",
            "io so dove\n",
            "una nuova cattedrale\n",
            "proprio lì proprio così\n",
            "da solo\n",
            "lungo l\n",
            "alle prime ore del mattino\n"
          ]
        }
      ]
    },
    {
      "cell_type": "code",
      "source": [
        "!rm /content/MLM_Utils.py"
      ],
      "metadata": {
        "id": "_PhlcnLEimN2"
      },
      "execution_count": 37,
      "outputs": []
    }
  ]
}