{
  "nbformat": 4,
  "nbformat_minor": 0,
  "metadata": {
    "colab": {
      "provenance": [],
      "authorship_tag": "ABX9TyMk+8gpRBZQFtAIANfFJcMi",
      "include_colab_link": true
    },
    "kernelspec": {
      "name": "python3",
      "display_name": "Python 3"
    },
    "language_info": {
      "name": "python"
    }
  },
  "cells": [
    {
      "cell_type": "markdown",
      "metadata": {
        "id": "view-in-github",
        "colab_type": "text"
      },
      "source": [
        "<a href=\"https://colab.research.google.com/github/GuidoGiacomoMussini/Text_Mining-Lyrics_Analysis/blob/main/1-Lyrics_retrieval.ipynb\" target=\"_parent\"><img src=\"https://colab.research.google.com/assets/colab-badge.svg\" alt=\"Open In Colab\"/></a>"
      ]
    },
    {
      "cell_type": "markdown",
      "source": [
        "# Dependencies"
      ],
      "metadata": {
        "id": "-j0WtAiKC323"
      }
    },
    {
      "cell_type": "code",
      "source": [
        "!pip install lyricsgenius"
      ],
      "metadata": {
        "id": "DOgSzyj8NYWN"
      },
      "execution_count": null,
      "outputs": []
    },
    {
      "cell_type": "code",
      "source": [
        "import lyricsgenius\n",
        "import pandas as pd\n",
        "from tqdm import tqdm\n",
        "import requests\n",
        "from google.colab import drive\n",
        "drive.mount('/content/drive')"
      ],
      "metadata": {
        "id": "1p9YHVZuybTa"
      },
      "execution_count": null,
      "outputs": []
    },
    {
      "cell_type": "markdown",
      "source": [
        "# Get the lyrics\n",
        "* Genius API"
      ],
      "metadata": {
        "id": "5_Cw62PWC6_a"
      }
    },
    {
      "cell_type": "code",
      "source": [
        "api_key = \"INSERT_KEY\"\n",
        "genius = lyricsgenius.Genius(api_key, timeout = 100)\n",
        "\n",
        "#artists\n",
        "artists = [\"Fabrizio De André\", \"Francesco Guccini\", \"Giorgio Gaber\", \"Claudio Lolli\"]\n",
        "\n",
        "#get the top 120 songs (based on popularity) of the artists\n",
        "artist_list, title_list, lyric_list = [], [], []\n",
        "for artist_name in tqdm(artists):\n",
        "    #get the artist object\n",
        "    artist = genius.search_artist(artist_name, max_songs=120, sort=\"popularity\")\n",
        "    #get the songs\n",
        "    for song in artist.songs:\n",
        "        artist_list.append(song.artist)\n",
        "        title_list.append(song.title)\n",
        "        lyric_list.append(song.lyrics)"
      ],
      "metadata": {
        "id": "UVg9auvt1PZD"
      },
      "execution_count": null,
      "outputs": []
    },
    {
      "cell_type": "code",
      "source": [
        "#create the dataframe\n",
        "df_raw_lyrics = pd.DataFrame({\"Author\": artist_list, \"Title\": title_list, \"Lyrics\": lyric_list})\n",
        "df_raw_lyrics.head()"
      ],
      "metadata": {
        "id": "VEAcBpmMB7z8"
      },
      "execution_count": null,
      "outputs": []
    },
    {
      "cell_type": "code",
      "source": [
        "#store the df\n",
        "files_path = '/content/drive/MyDrive/Colab Notebooks/Text Mining/Files/'\n",
        "lyrics_file = 'raw_lyrics.h5'\n",
        "\n",
        "df_raw_lyrics.to_hdf(files_path + lyrics_file, key='data', mode='w')"
      ],
      "metadata": {
        "id": "wMFnOwx2Lo1S"
      },
      "execution_count": null,
      "outputs": []
    }
  ]
}